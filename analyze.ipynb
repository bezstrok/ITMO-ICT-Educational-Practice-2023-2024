{
 "cells": [
  {
   "cell_type": "code",
   "execution_count": 6,
   "id": "initial_id",
   "metadata": {
    "collapsed": true,
    "ExecuteTime": {
     "end_time": "2024-03-16T11:01:19.253467Z",
     "start_time": "2024-03-16T11:01:19.068085Z"
    }
   },
   "outputs": [],
   "source": [
    "import pandas as pd\n",
    "import torch\n",
    "\n",
    "from tqdm.notebook import tqdm\n",
    "from transformers import AutoModelForSequenceClassification, BertTokenizerFast\n",
    "from transformers import pipeline\n",
    "\n",
    "from ydata_profiling import ProfileReport"
   ]
  },
  {
   "cell_type": "code",
   "outputs": [],
   "source": [
    "import warnings\n",
    "\n",
    "warnings.filterwarnings('ignore')"
   ],
   "metadata": {
    "collapsed": false,
    "ExecuteTime": {
     "end_time": "2024-03-16T11:00:38.263656Z",
     "start_time": "2024-03-16T11:00:38.260968Z"
    }
   },
   "id": "1fbb8fa8860b1f40",
   "execution_count": 3
  },
  {
   "cell_type": "markdown",
   "source": [
    "# Сентимент анализ\n",
    "\n",
    "# --------------------------------------------------------------------------------------------------------------------------------------\n"
   ],
   "metadata": {
    "collapsed": false
   },
   "id": "ea57e6e336b70f3c"
  },
  {
   "cell_type": "code",
   "execution_count": 2,
   "outputs": [],
   "source": [
    "articles = pd.read_pickle('data/processed_articles.pkl')\n",
    "comments = pd.read_pickle('data/processed_comments.pkl')"
   ],
   "metadata": {
    "collapsed": false,
    "ExecuteTime": {
     "end_time": "2024-03-16T09:53:21.689354Z",
     "start_time": "2024-03-16T09:53:21.188907Z"
    }
   },
   "id": "f7b090dad429ff1c"
  },
  {
   "cell_type": "code",
   "execution_count": 3,
   "outputs": [],
   "source": [
    "LABELS = ('NEUTRAL', 'POSITIVE', 'NEGATIVE')"
   ],
   "metadata": {
    "collapsed": false,
    "ExecuteTime": {
     "end_time": "2024-03-16T09:53:22.785447Z",
     "start_time": "2024-03-16T09:53:22.781395Z"
    }
   },
   "id": "b5287b6e9adb1c35"
  },
  {
   "cell_type": "code",
   "execution_count": 5,
   "outputs": [],
   "source": [
    "tokenizer = BertTokenizerFast.from_pretrained('blanchefort/rubert-base-cased-sentiment')\n",
    "model = AutoModelForSequenceClassification.from_pretrained('blanchefort/rubert-base-cased-sentiment', return_dict=True)\n",
    "\n",
    "\n",
    "@torch.no_grad()\n",
    "def predict(tokens: list[str]) -> str:\n",
    "    text = ' '.join(tokens)\n",
    "    inputs = tokenizer(text, max_length=512, padding=True, truncation=True, return_tensors='pt')\n",
    "    outputs = model(**inputs)\n",
    "    predicted = torch.nn.functional.softmax(outputs.logits, dim=1)\n",
    "    predicted = torch.argmax(predicted, dim=1).numpy()\n",
    "    return LABELS[predicted.item()]\n"
   ],
   "metadata": {
    "collapsed": false,
    "ExecuteTime": {
     "end_time": "2024-03-16T09:54:47.449065Z",
     "start_time": "2024-03-16T09:54:46.739881Z"
    }
   },
   "id": "6821ff6352c0355b"
  },
  {
   "cell_type": "code",
   "execution_count": 6,
   "outputs": [
    {
     "data": {
      "text/plain": "sentiment:   0%|          | 0/18750 [00:00<?, ?it/s]",
      "application/vnd.jupyter.widget-view+json": {
       "version_major": 2,
       "version_minor": 0,
       "model_id": "23ef91fc513644ffa1d94abcc7484419"
      }
     },
     "metadata": {},
     "output_type": "display_data"
    }
   ],
   "source": [
    "tqdm.pandas(desc='sentiment')\n",
    "comments['sentiment'] = comments['tokens'].progress_apply(predict)"
   ],
   "metadata": {
    "collapsed": false,
    "ExecuteTime": {
     "end_time": "2024-03-16T10:17:42.929962Z",
     "start_time": "2024-03-16T09:54:56.734189Z"
    }
   },
   "id": "288f6ef3fd960e6c"
  },
  {
   "cell_type": "code",
   "outputs": [],
   "source": [
    "comments['sentiment'] = comments['sentiment'].str.lower()"
   ],
   "metadata": {
    "collapsed": false,
    "ExecuteTime": {
     "end_time": "2024-03-16T11:22:17.679583Z",
     "start_time": "2024-03-16T11:22:17.673089Z"
    }
   },
   "id": "f3863a3a8f817883",
   "execution_count": 52
  },
  {
   "cell_type": "code",
   "outputs": [
    {
     "name": "stdout",
     "output_type": "stream",
     "text": [
      "ну вот собственно из за тот что мы вместо чтобы изучать и развивать прогрессивный технология минусовать каждый они упоминание мы и получать тормозить скайп\n",
      "----------------------------------------\n",
      "NEGATIVE\n"
     ]
    }
   ],
   "source": [
    "text, tokens, sentiment = comments.sample(1)[['text', 'tokens', 'sentiment']].iloc[0]\n",
    "\n",
    "print(' '.join(tokens))\n",
    "print('-' * 40)\n",
    "print(sentiment)"
   ],
   "metadata": {
    "collapsed": false,
    "ExecuteTime": {
     "end_time": "2024-03-16T10:46:47.824276Z",
     "start_time": "2024-03-16T10:46:47.818504Z"
    }
   },
   "id": "80303f446cde4abb",
   "execution_count": 109
  },
  {
   "cell_type": "code",
   "outputs": [],
   "source": [
    "articles.to_pickle('data/processed_articles.pkl')\n",
    "comments.to_pickle('data/processed_comments.pkl')"
   ],
   "metadata": {
    "collapsed": false
   },
   "id": "959a95c28fcc347e",
   "execution_count": 112
  },
  {
   "cell_type": "markdown",
   "source": [
    "# Фильтрация\n",
    "\n",
    "# --------------------------------------------------------------------------------------------------------------------------------------\n"
   ],
   "metadata": {
    "collapsed": false
   },
   "id": "1a87b52edff92635"
  },
  {
   "cell_type": "code",
   "outputs": [
    {
     "name": "stdout",
     "output_type": "stream",
     "text": [
      "comments: 18750 -> 18542\n",
      "diff - 208\n"
     ]
    }
   ],
   "source": [
    "filtered_comments = comments[~comments['tokens'].apply(lambda x: len(x) == 0)]\n",
    "filtered_comments = filtered_comments[~filtered_comments['purged_tokens'].apply(lambda x: len(x) == 0)]\n",
    "\n",
    "print(f\"comments: {comments.shape[0]} -> {filtered_comments.shape[0]}\")\n",
    "print(f\"diff - {comments.shape[0] - filtered_comments.shape[0]}\")"
   ],
   "metadata": {
    "collapsed": false,
    "ExecuteTime": {
     "end_time": "2024-03-16T10:47:22.269824Z",
     "start_time": "2024-03-16T10:47:22.249820Z"
    }
   },
   "id": "252f828357c9cda2",
   "execution_count": 110
  },
  {
   "cell_type": "code",
   "outputs": [],
   "source": [
    "comments = filtered_comments"
   ],
   "metadata": {
    "collapsed": false,
    "ExecuteTime": {
     "end_time": "2024-03-16T10:47:40.166482Z",
     "start_time": "2024-03-16T10:47:40.162981Z"
    }
   },
   "id": "9d181a58dad2dbb7",
   "execution_count": 111
  },
  {
   "cell_type": "code",
   "execution_count": 112,
   "outputs": [],
   "source": [
    "articles.to_pickle('data/processed_articles.pkl')\n",
    "comments.to_pickle('data/processed_comments.pkl')"
   ],
   "metadata": {
    "collapsed": false,
    "ExecuteTime": {
     "end_time": "2024-03-16T10:47:43.709857Z",
     "start_time": "2024-03-16T10:47:43.339292Z"
    }
   },
   "id": "506a321de51f9de1"
  },
  {
   "cell_type": "markdown",
   "source": [
    "# Анализ эмоций\n",
    "\n",
    "# --------------------------------------------------------------------------------------------------------------------------------------\n"
   ],
   "metadata": {
    "collapsed": false
   },
   "id": "5f681db9a3a7a0ff"
  },
  {
   "cell_type": "code",
   "outputs": [],
   "source": [
    "articles = pd.read_pickle('data/processed_articles.pkl')\n",
    "comments = pd.read_pickle('data/processed_comments.pkl')"
   ],
   "metadata": {
    "collapsed": false
   },
   "id": "fe0b13c40cbc9dee",
   "execution_count": 42
  },
  {
   "cell_type": "code",
   "outputs": [],
   "source": [
    "model = pipeline(model=\"seara/rubert-tiny2-ru-go-emotions\")\n",
    "\n",
    "def predict(tokens: list[str]):\n",
    "    ' '.join(tokens)\n",
    "    result = model(' '.join(tokens))[0]\n",
    "    return result['label']"
   ],
   "metadata": {
    "collapsed": false
   },
   "id": "54c4aa0c2be1362d",
   "execution_count": 43
  },
  {
   "cell_type": "code",
   "outputs": [
    {
     "data": {
      "text/plain": "emotion prediction:   0%|          | 0/18542 [00:00<?, ?it/s]",
      "application/vnd.jupyter.widget-view+json": {
       "version_major": 2,
       "version_minor": 0,
       "model_id": "692087b42a344b56a59e6a609a0d8d0d"
      }
     },
     "metadata": {},
     "output_type": "display_data"
    }
   ],
   "source": [
    "tqdm.pandas(desc='emotion prediction')\n",
    "comments['emotion'] = comments['tokens'].progress_apply(predict)"
   ],
   "metadata": {
    "collapsed": false
   },
   "id": "3628706ee4d8b727",
   "execution_count": 44
  },
  {
   "cell_type": "code",
   "outputs": [
    {
     "name": "stdout",
     "output_type": "stream",
     "text": [
      "позволить себя не согласиться не согласиться с чем конкретно вы не привести ни один пример который бы противоречить тот что я сказать\n",
      "----------------------------------------\n",
      "disapproval\n"
     ]
    }
   ],
   "source": [
    "tokens, emotion = comments.sample(1)[['tokens', 'emotion']].iloc[0]\n",
    "\n",
    "print(' '.join(tokens))\n",
    "print('-' * 40)\n",
    "print(emotion)"
   ],
   "metadata": {
    "collapsed": false,
    "ExecuteTime": {
     "end_time": "2024-03-16T11:20:06.695300Z",
     "start_time": "2024-03-16T11:20:06.689128Z"
    }
   },
   "id": "db9757cda01a61c3",
   "execution_count": 48
  },
  {
   "cell_type": "code",
   "outputs": [],
   "source": [
    "articles.to_pickle('data/processed_articles.pkl')\n",
    "comments.to_pickle('data/processed_comments.pkl')"
   ],
   "metadata": {
    "collapsed": false,
    "ExecuteTime": {
     "end_time": "2024-03-16T11:22:46.472098Z",
     "start_time": "2024-03-16T11:22:46.162330Z"
    }
   },
   "id": "a0a89bb6a2c60f38",
   "execution_count": 54
  },
  {
   "cell_type": "markdown",
   "source": [
    "# Профайлинг\n",
    "\n",
    "# --------------------------------------------------------------------------------------------------------------------------------------\n"
   ],
   "metadata": {
    "collapsed": false
   },
   "id": "24805c20a4429a05"
  },
  {
   "cell_type": "code",
   "outputs": [],
   "source": [
    "articles = pd.read_pickle('data/processed_articles.pkl')\n",
    "comments = pd.read_pickle('data/processed_comments.pkl')"
   ],
   "metadata": {
    "collapsed": false,
    "ExecuteTime": {
     "end_time": "2024-03-16T11:24:36.679579Z",
     "start_time": "2024-03-16T11:24:36.431284Z"
    }
   },
   "id": "598d7208d70af274",
   "execution_count": 55
  },
  {
   "cell_type": "code",
   "execution_count": 56,
   "outputs": [],
   "source": [
    "profiled_comments = comments.drop(['text', 'article_id'], axis=1)\n",
    "\n",
    "profiled_comments['tokens'] = profiled_comments['tokens'].apply(' '.join)\n",
    "profiled_comments['purged_tokens'] = profiled_comments['purged_tokens'].apply(' '.join)"
   ],
   "metadata": {
    "collapsed": false,
    "ExecuteTime": {
     "end_time": "2024-03-16T11:24:37.175916Z",
     "start_time": "2024-03-16T11:24:37.102900Z"
    }
   },
   "id": "a26389fdb46c5be2"
  },
  {
   "cell_type": "code",
   "execution_count": 57,
   "outputs": [
    {
     "data": {
      "text/plain": "author                             object\npublished_datetime    datetime64[ns, UTC]\nvotes                               int64\ntokens                             object\npurged_tokens                      object\nsentiment                          object\nemotion                            object\ndtype: object"
     },
     "execution_count": 57,
     "metadata": {},
     "output_type": "execute_result"
    }
   ],
   "source": [
    "profiled_comments.dtypes"
   ],
   "metadata": {
    "collapsed": false,
    "ExecuteTime": {
     "end_time": "2024-03-16T11:24:37.867212Z",
     "start_time": "2024-03-16T11:24:37.861496Z"
    }
   },
   "id": "be15657b267011f4"
  },
  {
   "cell_type": "code",
   "outputs": [
    {
     "data": {
      "text/plain": "                   author        published_datetime  votes  \\\n5165          SkywardFire 2023-12-04 21:07:15+00:00      0   \n12097             maxkain 2023-05-24 11:12:03+00:00      1   \n6851                 gmtd 2023-10-03 02:30:57+00:00      0   \n2475               krabdb 2024-01-20 12:43:18+00:00      0   \n64                 scarab 2024-03-12 12:12:59+00:00      0   \n4363              Neusser 2023-12-06 06:20:24+00:00      0   \n11022            inkelyad 2023-07-03 14:26:48+00:00      0   \n13820              Voldar 2023-03-16 06:39:52+00:00      0   \n18011          demimurych 2022-10-19 03:44:18+00:00      0   \n8472   username1234512345 2023-09-11 12:39:00+00:00      0   \n\n                                                  tokens  \\\n5165   кстати осознанно писать на не сам новый версия...   \n12097  высокий математик тоже сложный для понимание з...   \n6851   начать с тот что этот статья быть написать на ...   \n2475   кстати с март российский банк запретить переда...   \n64     сколько разработчик при это быть в команда про...   \n4363   использование ноутбук не ограничиваться интерф...   \n11022  криптомикросхема hsm стоять американский деньг...   \n13820  очень много весь происходить и не хватать сила...   \n18011  в то время веб заниматься программист а не тот...   \n8472   ты про пипмайя вроде писать у себя что предлаг...   \n\n                                           purged_tokens sentiment  \\\n5165       кстати осознанно версия интерпретатор причина   neutral   \n12097  высокий математик сложный понимание ирония отн...   neutral   \n6851   статья написать основа собеседование смочь фре...  negative   \n2475   кстати март российский банк запретить передава...   neutral   \n64                     разработчик команда проект секрет   neutral   \n4363   использование ноутбук ограничиваться интерфейс...   neutral   \n11022  криптомикросхема hsm американский деньга штука...   neutral   \n13820     происходить хватать записывать план продолжить   neutral   \n18011  веб заниматься программист изучать javascript ...   neutral   \n8472   пипмайя вроде предлагать готовый движок сайт з...  negative   \n\n           emotion  \n5165       neutral  \n12097  disapproval  \n6851     confusion  \n2475       neutral  \n64       confusion  \n4363       neutral  \n11022      neutral  \n13820     optimism  \n18011    annoyance  \n8472     curiosity  ",
      "text/html": "<div>\n<style scoped>\n    .dataframe tbody tr th:only-of-type {\n        vertical-align: middle;\n    }\n\n    .dataframe tbody tr th {\n        vertical-align: top;\n    }\n\n    .dataframe thead th {\n        text-align: right;\n    }\n</style>\n<table border=\"1\" class=\"dataframe\">\n  <thead>\n    <tr style=\"text-align: right;\">\n      <th></th>\n      <th>author</th>\n      <th>published_datetime</th>\n      <th>votes</th>\n      <th>tokens</th>\n      <th>purged_tokens</th>\n      <th>sentiment</th>\n      <th>emotion</th>\n    </tr>\n  </thead>\n  <tbody>\n    <tr>\n      <th>5165</th>\n      <td>SkywardFire</td>\n      <td>2023-12-04 21:07:15+00:00</td>\n      <td>0</td>\n      <td>кстати осознанно писать на не сам новый версия...</td>\n      <td>кстати осознанно версия интерпретатор причина</td>\n      <td>neutral</td>\n      <td>neutral</td>\n    </tr>\n    <tr>\n      <th>12097</th>\n      <td>maxkain</td>\n      <td>2023-05-24 11:12:03+00:00</td>\n      <td>1</td>\n      <td>высокий математик тоже сложный для понимание з...</td>\n      <td>высокий математик сложный понимание ирония отн...</td>\n      <td>neutral</td>\n      <td>disapproval</td>\n    </tr>\n    <tr>\n      <th>6851</th>\n      <td>gmtd</td>\n      <td>2023-10-03 02:30:57+00:00</td>\n      <td>0</td>\n      <td>начать с тот что этот статья быть написать на ...</td>\n      <td>статья написать основа собеседование смочь фре...</td>\n      <td>negative</td>\n      <td>confusion</td>\n    </tr>\n    <tr>\n      <th>2475</th>\n      <td>krabdb</td>\n      <td>2024-01-20 12:43:18+00:00</td>\n      <td>0</td>\n      <td>кстати с март российский банк запретить переда...</td>\n      <td>кстати март российский банк запретить передава...</td>\n      <td>neutral</td>\n      <td>neutral</td>\n    </tr>\n    <tr>\n      <th>64</th>\n      <td>scarab</td>\n      <td>2024-03-12 12:12:59+00:00</td>\n      <td>0</td>\n      <td>сколько разработчик при это быть в команда про...</td>\n      <td>разработчик команда проект секрет</td>\n      <td>neutral</td>\n      <td>confusion</td>\n    </tr>\n    <tr>\n      <th>4363</th>\n      <td>Neusser</td>\n      <td>2023-12-06 06:20:24+00:00</td>\n      <td>0</td>\n      <td>использование ноутбук не ограничиваться интерф...</td>\n      <td>использование ноутбук ограничиваться интерфейс...</td>\n      <td>neutral</td>\n      <td>neutral</td>\n    </tr>\n    <tr>\n      <th>11022</th>\n      <td>inkelyad</td>\n      <td>2023-07-03 14:26:48+00:00</td>\n      <td>0</td>\n      <td>криптомикросхема hsm стоять американский деньг...</td>\n      <td>криптомикросхема hsm американский деньга штука...</td>\n      <td>neutral</td>\n      <td>neutral</td>\n    </tr>\n    <tr>\n      <th>13820</th>\n      <td>Voldar</td>\n      <td>2023-03-16 06:39:52+00:00</td>\n      <td>0</td>\n      <td>очень много весь происходить и не хватать сила...</td>\n      <td>происходить хватать записывать план продолжить</td>\n      <td>neutral</td>\n      <td>optimism</td>\n    </tr>\n    <tr>\n      <th>18011</th>\n      <td>demimurych</td>\n      <td>2022-10-19 03:44:18+00:00</td>\n      <td>0</td>\n      <td>в то время веб заниматься программист а не тот...</td>\n      <td>веб заниматься программист изучать javascript ...</td>\n      <td>neutral</td>\n      <td>annoyance</td>\n    </tr>\n    <tr>\n      <th>8472</th>\n      <td>username1234512345</td>\n      <td>2023-09-11 12:39:00+00:00</td>\n      <td>0</td>\n      <td>ты про пипмайя вроде писать у себя что предлаг...</td>\n      <td>пипмайя вроде предлагать готовый движок сайт з...</td>\n      <td>negative</td>\n      <td>curiosity</td>\n    </tr>\n  </tbody>\n</table>\n</div>"
     },
     "execution_count": 58,
     "metadata": {},
     "output_type": "execute_result"
    }
   ],
   "source": [
    "profiled_comments.sample(10)"
   ],
   "metadata": {
    "collapsed": false,
    "ExecuteTime": {
     "end_time": "2024-03-16T11:24:43.480360Z",
     "start_time": "2024-03-16T11:24:43.470126Z"
    }
   },
   "id": "e199ee07549c8c6f",
   "execution_count": 58
  },
  {
   "cell_type": "code",
   "execution_count": 59,
   "outputs": [
    {
     "data": {
      "text/plain": "Summarize dataset:   0%|          | 0/5 [00:00<?, ?it/s]",
      "application/vnd.jupyter.widget-view+json": {
       "version_major": 2,
       "version_minor": 0,
       "model_id": "0e5899cedc9a4d1bb92ac9d6d8b19d83"
      }
     },
     "metadata": {},
     "output_type": "display_data"
    },
    {
     "data": {
      "text/plain": "Generate report structure:   0%|          | 0/1 [00:00<?, ?it/s]",
      "application/vnd.jupyter.widget-view+json": {
       "version_major": 2,
       "version_minor": 0,
       "model_id": "f42a28429b634e03a9074eb93e54315d"
      }
     },
     "metadata": {},
     "output_type": "display_data"
    },
    {
     "data": {
      "text/plain": "Render HTML:   0%|          | 0/1 [00:00<?, ?it/s]",
      "application/vnd.jupyter.widget-view+json": {
       "version_major": 2,
       "version_minor": 0,
       "model_id": "a58356e802d9438692dc1be1c19fe0c6"
      }
     },
     "metadata": {},
     "output_type": "display_data"
    },
    {
     "data": {
      "text/plain": "Export report to file:   0%|          | 0/1 [00:00<?, ?it/s]",
      "application/vnd.jupyter.widget-view+json": {
       "version_major": 2,
       "version_minor": 0,
       "model_id": "5014b27e3a764b129c187aff4fd303ce"
      }
     },
     "metadata": {},
     "output_type": "display_data"
    }
   ],
   "source": [
    "report = ProfileReport(profiled_comments, title='Comments Report', explorative=True)\n",
    "report.to_file(\"results/comments_report.html\")"
   ],
   "metadata": {
    "collapsed": false,
    "ExecuteTime": {
     "end_time": "2024-03-16T11:24:52.165901Z",
     "start_time": "2024-03-16T11:24:45.030162Z"
    }
   },
   "id": "b2ea2104f480d27f"
  },
  {
   "cell_type": "code",
   "outputs": [],
   "source": [
    "profiled_articles = articles.drop(['id', 'url'], axis=1)\n",
    "\n",
    "profiled_articles['tags'] = profiled_articles['tags'].apply(' '.join)"
   ],
   "metadata": {
    "collapsed": false,
    "ExecuteTime": {
     "end_time": "2024-03-16T11:24:56.309198Z",
     "start_time": "2024-03-16T11:24:56.303068Z"
    }
   },
   "id": "d274a475a3f433dc",
   "execution_count": 60
  },
  {
   "cell_type": "code",
   "outputs": [
    {
     "data": {
      "text/plain": "author                             object\npublished_datetime    datetime64[ns, UTC]\ntitle                              object\ncomplexity                         object\nreading_time                        int64\nviews                               int64\ntags                               object\nvotes                               int64\nbookmarks                           int64\ncomments                            int64\ndtype: object"
     },
     "execution_count": 61,
     "metadata": {},
     "output_type": "execute_result"
    }
   ],
   "source": [
    "profiled_articles.dtypes"
   ],
   "metadata": {
    "collapsed": false,
    "ExecuteTime": {
     "end_time": "2024-03-16T11:24:57.075623Z",
     "start_time": "2024-03-16T11:24:57.070437Z"
    }
   },
   "id": "ed0a14d2dda1ad84",
   "execution_count": 61
  },
  {
   "cell_type": "code",
   "outputs": [
    {
     "data": {
      "text/plain": "                   author        published_datetime  \\\n378  alexandrareznikova11 2023-09-29 09:15:14+00:00   \n751        thepythonicway 2023-02-21 14:21:55+00:00   \n717        RostislavDugin 2023-03-11 15:12:08+00:00   \n921                Vordgi 2022-10-24 11:30:02+00:00   \n213        cherkalexander 2023-12-18 07:02:23+00:00   \n406                 m5xim 2023-09-18 06:03:02+00:00   \n942        Anastasia_rova 2022-10-10 15:53:27+00:00   \n785                aio350 2023-01-31 08:01:01+00:00   \n520            fat32elena 2023-07-18 07:01:45+00:00   \n817               StiPAFk 2023-01-09 14:20:57+00:00   \n\n                                                 title complexity  \\\n378    Геймификация в охране труда: кому, зачем и как?        NaN   \n751  Как изучать язык Python для веб-разработки в 2...    Простой   \n717          Стартап в Соло. Часть 3: упрощаем продукт    Простой   \n921     Next.js v13. Что нового и чего ждать в будущем        NaN   \n213  Как я документацию для дизайн-токенов в Storyb...    Простой   \n406  Подключение Twig шаблонов в WordPress: Как изб...    Средний   \n942  Разбираемся в анимациях и временных переходах ...        NaN   \n785         JavaScript: заметка об операторе конвейера        NaN   \n520  Если ваш фронтендер перестал бояться IE6, пока...        NaN   \n817          Управление состоянием в React приложениях        NaN   \n\n     reading_time  views                                               tags  \\\n378             4   1300  Веб-разработка IT-инфраструктура Разработка иг...   \n751            17  27000  Веб-разработка Python Django API Карьера в IT-...   \n717             5   3100                   Веб-разработка Развитие стартапа   \n921             6   6600  Веб-разработка JavaScript ReactJS Поисковая оп...   \n213            10   2600          Веб-разработка Open source ReactJS Дизайн   \n406             4    880                  WordPress Веб-разработка PHP HTML   \n942             8  38000  Блог компании Нетология Веб-дизайн Веб-разрабо...   \n785             8   3700  Блог компании Timeweb Cloud Веб-разработка Jav...   \n520             7  22000  Блог компании Яндекс Веб-разработка CSS JavaSc...   \n817             3   6500       Веб-разработка JavaScript ReactJS TypeScript   \n\n     votes  bookmarks  comments  \n378      2         12         1  \n751      2        223         7  \n717      3         32         0  \n921      2         16         1  \n213      9         26         0  \n406      0         10         0  \n942      1         90         0  \n785     15         24         1  \n520     64         75        85  \n817      1         46        39  ",
      "text/html": "<div>\n<style scoped>\n    .dataframe tbody tr th:only-of-type {\n        vertical-align: middle;\n    }\n\n    .dataframe tbody tr th {\n        vertical-align: top;\n    }\n\n    .dataframe thead th {\n        text-align: right;\n    }\n</style>\n<table border=\"1\" class=\"dataframe\">\n  <thead>\n    <tr style=\"text-align: right;\">\n      <th></th>\n      <th>author</th>\n      <th>published_datetime</th>\n      <th>title</th>\n      <th>complexity</th>\n      <th>reading_time</th>\n      <th>views</th>\n      <th>tags</th>\n      <th>votes</th>\n      <th>bookmarks</th>\n      <th>comments</th>\n    </tr>\n  </thead>\n  <tbody>\n    <tr>\n      <th>378</th>\n      <td>alexandrareznikova11</td>\n      <td>2023-09-29 09:15:14+00:00</td>\n      <td>Геймификация в охране труда: кому, зачем и как?</td>\n      <td>NaN</td>\n      <td>4</td>\n      <td>1300</td>\n      <td>Веб-разработка IT-инфраструктура Разработка иг...</td>\n      <td>2</td>\n      <td>12</td>\n      <td>1</td>\n    </tr>\n    <tr>\n      <th>751</th>\n      <td>thepythonicway</td>\n      <td>2023-02-21 14:21:55+00:00</td>\n      <td>Как изучать язык Python для веб-разработки в 2...</td>\n      <td>Простой</td>\n      <td>17</td>\n      <td>27000</td>\n      <td>Веб-разработка Python Django API Карьера в IT-...</td>\n      <td>2</td>\n      <td>223</td>\n      <td>7</td>\n    </tr>\n    <tr>\n      <th>717</th>\n      <td>RostislavDugin</td>\n      <td>2023-03-11 15:12:08+00:00</td>\n      <td>Стартап в Соло. Часть 3: упрощаем продукт</td>\n      <td>Простой</td>\n      <td>5</td>\n      <td>3100</td>\n      <td>Веб-разработка Развитие стартапа</td>\n      <td>3</td>\n      <td>32</td>\n      <td>0</td>\n    </tr>\n    <tr>\n      <th>921</th>\n      <td>Vordgi</td>\n      <td>2022-10-24 11:30:02+00:00</td>\n      <td>Next.js v13. Что нового и чего ждать в будущем</td>\n      <td>NaN</td>\n      <td>6</td>\n      <td>6600</td>\n      <td>Веб-разработка JavaScript ReactJS Поисковая оп...</td>\n      <td>2</td>\n      <td>16</td>\n      <td>1</td>\n    </tr>\n    <tr>\n      <th>213</th>\n      <td>cherkalexander</td>\n      <td>2023-12-18 07:02:23+00:00</td>\n      <td>Как я документацию для дизайн-токенов в Storyb...</td>\n      <td>Простой</td>\n      <td>10</td>\n      <td>2600</td>\n      <td>Веб-разработка Open source ReactJS Дизайн</td>\n      <td>9</td>\n      <td>26</td>\n      <td>0</td>\n    </tr>\n    <tr>\n      <th>406</th>\n      <td>m5xim</td>\n      <td>2023-09-18 06:03:02+00:00</td>\n      <td>Подключение Twig шаблонов в WordPress: Как изб...</td>\n      <td>Средний</td>\n      <td>4</td>\n      <td>880</td>\n      <td>WordPress Веб-разработка PHP HTML</td>\n      <td>0</td>\n      <td>10</td>\n      <td>0</td>\n    </tr>\n    <tr>\n      <th>942</th>\n      <td>Anastasia_rova</td>\n      <td>2022-10-10 15:53:27+00:00</td>\n      <td>Разбираемся в анимациях и временных переходах ...</td>\n      <td>NaN</td>\n      <td>8</td>\n      <td>38000</td>\n      <td>Блог компании Нетология Веб-дизайн Веб-разрабо...</td>\n      <td>1</td>\n      <td>90</td>\n      <td>0</td>\n    </tr>\n    <tr>\n      <th>785</th>\n      <td>aio350</td>\n      <td>2023-01-31 08:01:01+00:00</td>\n      <td>JavaScript: заметка об операторе конвейера</td>\n      <td>NaN</td>\n      <td>8</td>\n      <td>3700</td>\n      <td>Блог компании Timeweb Cloud Веб-разработка Jav...</td>\n      <td>15</td>\n      <td>24</td>\n      <td>1</td>\n    </tr>\n    <tr>\n      <th>520</th>\n      <td>fat32elena</td>\n      <td>2023-07-18 07:01:45+00:00</td>\n      <td>Если ваш фронтендер перестал бояться IE6, пока...</td>\n      <td>NaN</td>\n      <td>7</td>\n      <td>22000</td>\n      <td>Блог компании Яндекс Веб-разработка CSS JavaSc...</td>\n      <td>64</td>\n      <td>75</td>\n      <td>85</td>\n    </tr>\n    <tr>\n      <th>817</th>\n      <td>StiPAFk</td>\n      <td>2023-01-09 14:20:57+00:00</td>\n      <td>Управление состоянием в React приложениях</td>\n      <td>NaN</td>\n      <td>3</td>\n      <td>6500</td>\n      <td>Веб-разработка JavaScript ReactJS TypeScript</td>\n      <td>1</td>\n      <td>46</td>\n      <td>39</td>\n    </tr>\n  </tbody>\n</table>\n</div>"
     },
     "execution_count": 62,
     "metadata": {},
     "output_type": "execute_result"
    }
   ],
   "source": [
    "profiled_articles.sample(10)"
   ],
   "metadata": {
    "collapsed": false,
    "ExecuteTime": {
     "end_time": "2024-03-16T11:24:57.647483Z",
     "start_time": "2024-03-16T11:24:57.638109Z"
    }
   },
   "id": "8a6f146fbf01482",
   "execution_count": 62
  },
  {
   "cell_type": "code",
   "execution_count": 63,
   "outputs": [
    {
     "data": {
      "text/plain": "Summarize dataset:   0%|          | 0/5 [00:00<?, ?it/s]",
      "application/vnd.jupyter.widget-view+json": {
       "version_major": 2,
       "version_minor": 0,
       "model_id": "a0eaeb77febd4bf48ba69478976382fb"
      }
     },
     "metadata": {},
     "output_type": "display_data"
    },
    {
     "data": {
      "text/plain": "Generate report structure:   0%|          | 0/1 [00:00<?, ?it/s]",
      "application/vnd.jupyter.widget-view+json": {
       "version_major": 2,
       "version_minor": 0,
       "model_id": "7bf06e21a21542d78f84a59b120c3769"
      }
     },
     "metadata": {},
     "output_type": "display_data"
    },
    {
     "data": {
      "text/plain": "Render HTML:   0%|          | 0/1 [00:00<?, ?it/s]",
      "application/vnd.jupyter.widget-view+json": {
       "version_major": 2,
       "version_minor": 0,
       "model_id": "5feff5751d5041f0983f5eb9ebf360b6"
      }
     },
     "metadata": {},
     "output_type": "display_data"
    },
    {
     "data": {
      "text/plain": "Export report to file:   0%|          | 0/1 [00:00<?, ?it/s]",
      "application/vnd.jupyter.widget-view+json": {
       "version_major": 2,
       "version_minor": 0,
       "model_id": "ec34fdca1a4b43f3995939b281748884"
      }
     },
     "metadata": {},
     "output_type": "display_data"
    }
   ],
   "source": [
    "report = ProfileReport(profiled_articles, title='Comments Report', explorative=True)\n",
    "report.to_file(\"results/articles_report.html\")"
   ],
   "metadata": {
    "collapsed": false,
    "ExecuteTime": {
     "end_time": "2024-03-16T11:25:06.574941Z",
     "start_time": "2024-03-16T11:24:58.666523Z"
    }
   },
   "id": "4267350c9ffc50d2"
  },
  {
   "cell_type": "markdown",
   "source": [
    "# --------------------------------------------------------------------------------------------------------------------------------------\n"
   ],
   "metadata": {
    "collapsed": false
   },
   "id": "62b8401b04f7ee44"
  }
 ],
 "metadata": {
  "kernelspec": {
   "display_name": "Python 3",
   "language": "python",
   "name": "python3"
  },
  "language_info": {
   "codemirror_mode": {
    "name": "ipython",
    "version": 2
   },
   "file_extension": ".py",
   "mimetype": "text/x-python",
   "name": "python",
   "nbconvert_exporter": "python",
   "pygments_lexer": "ipython2",
   "version": "2.7.6"
  }
 },
 "nbformat": 4,
 "nbformat_minor": 5
}
