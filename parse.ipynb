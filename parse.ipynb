{
 "cells": [
  {
   "cell_type": "code",
   "execution_count": 8,
   "id": "initial_id",
   "metadata": {
    "collapsed": true,
    "ExecuteTime": {
     "end_time": "2024-02-29T20:15:27.298274100Z",
     "start_time": "2024-02-29T20:15:27.288708100Z"
    }
   },
   "outputs": [],
   "source": [
    "import csv\n",
    "import re\n",
    "from dataclasses import asdict, dataclass\n",
    "from datetime import datetime\n",
    "from urllib.parse import urljoin\n",
    "\n",
    "import bs4.element\n",
    "import requests\n",
    "from bs4 import BeautifulSoup\n",
    "from tqdm.notebook import tqdm"
   ]
  },
  {
   "cell_type": "code",
   "execution_count": 2,
   "outputs": [],
   "source": [
    "ROOT_URL = 'https://habr.com/'\n",
    "BASE_URL = 'https://habr.com/ru/hubs/webdev/articles/'\n",
    "MAX_PAGES = 50"
   ],
   "metadata": {
    "collapsed": false,
    "ExecuteTime": {
     "end_time": "2024-02-29T19:42:21.061015200Z",
     "start_time": "2024-02-29T19:42:21.057470Z"
    }
   },
   "id": "f001ed00fc3c08e2"
  },
  {
   "cell_type": "code",
   "execution_count": 3,
   "outputs": [],
   "source": [
    "@dataclass\n",
    "class Article:\n",
    "    id: int\n",
    "    author: str\n",
    "    published_datetime: datetime\n",
    "    title: str\n",
    "    url: str\n",
    "    complexity: str\n",
    "    reading_time: int\n",
    "    views: int\n",
    "    tags: list[str]\n",
    "    votes: int\n",
    "    bookmarks: int\n",
    "    comments: int\n",
    "\n",
    "\n",
    "@dataclass\n",
    "class Comment:\n",
    "    article_id: int\n",
    "    author: str\n",
    "    published_datetime: datetime\n",
    "    text: str\n",
    "    votes: int"
   ],
   "metadata": {
    "collapsed": false,
    "ExecuteTime": {
     "end_time": "2024-02-29T19:42:21.069931700Z",
     "start_time": "2024-02-29T19:42:21.064195300Z"
    }
   },
   "id": "2ecf11fd8d481602"
  },
  {
   "cell_type": "code",
   "execution_count": 4,
   "outputs": [],
   "source": [
    "def convert_str_to_datetime(iso_str: str) -> datetime:\n",
    "    return datetime.fromisoformat(iso_str.replace('Z', '+00:00'))\n",
    "\n",
    "\n",
    "def convert_views_to_int(views: str) -> int:\n",
    "    multiplier = 1\n",
    "    if 'K' in views:\n",
    "        multiplier = 1_000\n",
    "        views = views.replace('K', '')\n",
    "    elif 'M' in views:\n",
    "        multiplier = 1_000_000\n",
    "        views = views.replace('M', '')\n",
    "    \n",
    "    return int(float(views) * multiplier)\n",
    "\n",
    "\n",
    "def extract_int(int_str: str) -> int:\n",
    "    return int(re.search(r'\\d+', int_str).group())\n",
    "\n",
    "\n",
    "def get_text_or_none(tag: bs4.element.Tag | None, *args, **kwargs) -> str | None:\n",
    "    kwargs['strip'] = True\n",
    "    return tag.get_text(*args, **kwargs) if tag else None\n",
    "\n",
    "\n",
    "def get_id_from_url(url: str) -> int:\n",
    "    return int(re.search(r'/articles/(\\d+)/', url).group(1))"
   ],
   "metadata": {
    "collapsed": false,
    "ExecuteTime": {
     "end_time": "2024-02-29T19:42:21.114538200Z",
     "start_time": "2024-02-29T19:42:21.069931700Z"
    }
   },
   "id": "3bd194ec816903b4"
  },
  {
   "cell_type": "code",
   "execution_count": 5,
   "outputs": [],
   "source": [
    "def generate_pages_urls(base_url: str, max_pages: int):\n",
    "    for i in range(1, max_pages + 1):\n",
    "        yield urljoin(base_url, f'page{i}/')\n",
    "\n",
    "\n",
    "def parse_article(article: bs4.element.Tag, url: str) -> Article:\n",
    "    \"\"\" article = soup.find('div', class_=\"tm-article-snippet\") + soup.find('div', class_=\"tm-data-icons\")\"\"\"\n",
    "    id = get_id_from_url(url)\n",
    "    author = get_text_or_none(article.find('a', class_='tm-user-info__username'))\n",
    "    published_datetime = convert_str_to_datetime(article.find('time').get('datetime'))\n",
    "    title = get_text_or_none(article.find('h1', class_='tm-title'))\n",
    "    complexity = get_text_or_none(article.find('span', class_='tm-article-complexity__label'))\n",
    "    reading_time = extract_int(get_text_or_none(article.find('span', class_='tm-article-reading-time__label')))\n",
    "    views = convert_views_to_int(get_text_or_none(article.find('span', class_='tm-icon-counter__value')))\n",
    "    tags = [tag.find('span').get_text(strip=True) for tag in article.find_all('a', class_='tm-publication-hub__link')]\n",
    "    votes = extract_int(get_text_or_none(article.find('span', class_='tm-votes-meter__value')))\n",
    "    bookmarks = extract_int(get_text_or_none(article.find('span', class_='bookmarks-button__counter')))\n",
    "    comments = extract_int(get_text_or_none(article.find('span', class_='tm-article-comments-counter-link__value')))\n",
    "    \n",
    "    return Article(\n",
    "        id=id,\n",
    "        author=author,\n",
    "        published_datetime=published_datetime,\n",
    "        title=title,\n",
    "        url=url,\n",
    "        complexity=complexity,\n",
    "        reading_time=reading_time,\n",
    "        views=views,\n",
    "        tags=tags,\n",
    "        votes=votes,\n",
    "        bookmarks=bookmarks,\n",
    "        comments=comments,\n",
    "    )\n",
    "\n",
    "\n",
    "def parse_comment(comment: bs4.element.Tag, article_id: int) -> Comment:\n",
    "    \"\"\" comment = soup.find('article', class_='tm-comment-thread__comment') \"\"\"\n",
    "    author = get_text_or_none(comment.find('a', class_='tm-user-info__username'))\n",
    "    published_datetime = convert_str_to_datetime(comment.find('time').get('datetime'))\n",
    "    text = get_text_or_none(comment.find('div', class_='tm-comment__body-content'), '\\n')\n",
    "    votes = extract_int(get_text_or_none(comment.find('span', class_='tm-votes-meter__value')))\n",
    "    \n",
    "    return Comment(\n",
    "        article_id=article_id,\n",
    "        author=author,\n",
    "        published_datetime=published_datetime,\n",
    "        text=text,\n",
    "        votes=votes\n",
    "    )"
   ],
   "metadata": {
    "collapsed": false,
    "ExecuteTime": {
     "end_time": "2024-02-29T19:42:21.114586700Z",
     "start_time": "2024-02-29T19:42:21.099980500Z"
    }
   },
   "id": "1ad6a3cc6f2b2f34"
  },
  {
   "cell_type": "code",
   "execution_count": 6,
   "outputs": [
    {
     "data": {
      "text/plain": "Processing pages:   0%|          | 0/50 [00:00<?, ?it/s]",
      "application/vnd.jupyter.widget-view+json": {
       "version_major": 2,
       "version_minor": 0,
       "model_id": "1ffb0347a07740d9a8fe81a2f2f0f796"
      }
     },
     "metadata": {},
     "output_type": "display_data"
    },
    {
     "data": {
      "text/plain": "Processing articles:   0%|          | 0/20 [00:00<?, ?it/s]",
      "application/vnd.jupyter.widget-view+json": {
       "version_major": 2,
       "version_minor": 0,
       "model_id": "a9ecd65c4b0d411f96e3c7145086dca8"
      }
     },
     "metadata": {},
     "output_type": "display_data"
    },
    {
     "data": {
      "text/plain": "Processing articles:   0%|          | 0/20 [00:00<?, ?it/s]",
      "application/vnd.jupyter.widget-view+json": {
       "version_major": 2,
       "version_minor": 0,
       "model_id": "c6c941a72ba24b02be932f10ed62d740"
      }
     },
     "metadata": {},
     "output_type": "display_data"
    },
    {
     "data": {
      "text/plain": "Processing articles:   0%|          | 0/20 [00:00<?, ?it/s]",
      "application/vnd.jupyter.widget-view+json": {
       "version_major": 2,
       "version_minor": 0,
       "model_id": "e054aea8b6234ea5a907d3867ba0b9b0"
      }
     },
     "metadata": {},
     "output_type": "display_data"
    },
    {
     "data": {
      "text/plain": "Processing articles:   0%|          | 0/20 [00:00<?, ?it/s]",
      "application/vnd.jupyter.widget-view+json": {
       "version_major": 2,
       "version_minor": 0,
       "model_id": "1ef88bf6b1e74fd49e0d201f8ba3ff3b"
      }
     },
     "metadata": {},
     "output_type": "display_data"
    },
    {
     "data": {
      "text/plain": "Processing articles:   0%|          | 0/20 [00:00<?, ?it/s]",
      "application/vnd.jupyter.widget-view+json": {
       "version_major": 2,
       "version_minor": 0,
       "model_id": "34fa9018105c461685d2b91566eec719"
      }
     },
     "metadata": {},
     "output_type": "display_data"
    },
    {
     "data": {
      "text/plain": "Processing articles:   0%|          | 0/20 [00:00<?, ?it/s]",
      "application/vnd.jupyter.widget-view+json": {
       "version_major": 2,
       "version_minor": 0,
       "model_id": "10831fcee9174eacabf34cad518d0365"
      }
     },
     "metadata": {},
     "output_type": "display_data"
    },
    {
     "data": {
      "text/plain": "Processing articles:   0%|          | 0/20 [00:00<?, ?it/s]",
      "application/vnd.jupyter.widget-view+json": {
       "version_major": 2,
       "version_minor": 0,
       "model_id": "d1daa5f033f54e24b6df77a806fb069d"
      }
     },
     "metadata": {},
     "output_type": "display_data"
    },
    {
     "data": {
      "text/plain": "Processing articles:   0%|          | 0/20 [00:00<?, ?it/s]",
      "application/vnd.jupyter.widget-view+json": {
       "version_major": 2,
       "version_minor": 0,
       "model_id": "2c8a2f286f4b4bb4982a15aea5804e7d"
      }
     },
     "metadata": {},
     "output_type": "display_data"
    },
    {
     "data": {
      "text/plain": "Processing articles:   0%|          | 0/20 [00:00<?, ?it/s]",
      "application/vnd.jupyter.widget-view+json": {
       "version_major": 2,
       "version_minor": 0,
       "model_id": "3c3816caf21b429ea4ea7b3ba3b2e75f"
      }
     },
     "metadata": {},
     "output_type": "display_data"
    },
    {
     "data": {
      "text/plain": "Processing articles:   0%|          | 0/20 [00:00<?, ?it/s]",
      "application/vnd.jupyter.widget-view+json": {
       "version_major": 2,
       "version_minor": 0,
       "model_id": "4208c54f94804e11b0469884a5e89f3a"
      }
     },
     "metadata": {},
     "output_type": "display_data"
    },
    {
     "data": {
      "text/plain": "Processing articles:   0%|          | 0/20 [00:00<?, ?it/s]",
      "application/vnd.jupyter.widget-view+json": {
       "version_major": 2,
       "version_minor": 0,
       "model_id": "f5844da084c74c5ab62fc0afa7cb9cf9"
      }
     },
     "metadata": {},
     "output_type": "display_data"
    },
    {
     "data": {
      "text/plain": "Processing articles:   0%|          | 0/20 [00:00<?, ?it/s]",
      "application/vnd.jupyter.widget-view+json": {
       "version_major": 2,
       "version_minor": 0,
       "model_id": "4a0da01d3c8347f68cb46e158d6028b8"
      }
     },
     "metadata": {},
     "output_type": "display_data"
    },
    {
     "data": {
      "text/plain": "Processing articles:   0%|          | 0/20 [00:00<?, ?it/s]",
      "application/vnd.jupyter.widget-view+json": {
       "version_major": 2,
       "version_minor": 0,
       "model_id": "015c0e1519c64202979b471b65d11454"
      }
     },
     "metadata": {},
     "output_type": "display_data"
    },
    {
     "data": {
      "text/plain": "Processing articles:   0%|          | 0/20 [00:00<?, ?it/s]",
      "application/vnd.jupyter.widget-view+json": {
       "version_major": 2,
       "version_minor": 0,
       "model_id": "ef7ab7b61b1d4f93beb32b50a5e4057a"
      }
     },
     "metadata": {},
     "output_type": "display_data"
    },
    {
     "data": {
      "text/plain": "Processing articles:   0%|          | 0/20 [00:00<?, ?it/s]",
      "application/vnd.jupyter.widget-view+json": {
       "version_major": 2,
       "version_minor": 0,
       "model_id": "71b07a0f53bf43a0af44320136095644"
      }
     },
     "metadata": {},
     "output_type": "display_data"
    },
    {
     "data": {
      "text/plain": "Processing articles:   0%|          | 0/20 [00:00<?, ?it/s]",
      "application/vnd.jupyter.widget-view+json": {
       "version_major": 2,
       "version_minor": 0,
       "model_id": "798ea8bdb9a24eeab0b51cee78e4f427"
      }
     },
     "metadata": {},
     "output_type": "display_data"
    },
    {
     "data": {
      "text/plain": "Processing articles:   0%|          | 0/20 [00:00<?, ?it/s]",
      "application/vnd.jupyter.widget-view+json": {
       "version_major": 2,
       "version_minor": 0,
       "model_id": "ef8a269e9d844e4994fc77454165f186"
      }
     },
     "metadata": {},
     "output_type": "display_data"
    },
    {
     "data": {
      "text/plain": "Processing articles:   0%|          | 0/20 [00:00<?, ?it/s]",
      "application/vnd.jupyter.widget-view+json": {
       "version_major": 2,
       "version_minor": 0,
       "model_id": "30e3596b668649f2a9cd7f6b3c3f4cff"
      }
     },
     "metadata": {},
     "output_type": "display_data"
    },
    {
     "data": {
      "text/plain": "Processing articles:   0%|          | 0/20 [00:00<?, ?it/s]",
      "application/vnd.jupyter.widget-view+json": {
       "version_major": 2,
       "version_minor": 0,
       "model_id": "528fcc0dd590457b9b1a63dd03cbc7fa"
      }
     },
     "metadata": {},
     "output_type": "display_data"
    },
    {
     "data": {
      "text/plain": "Processing articles:   0%|          | 0/20 [00:00<?, ?it/s]",
      "application/vnd.jupyter.widget-view+json": {
       "version_major": 2,
       "version_minor": 0,
       "model_id": "88ffb3d85c834ecf8834ecfd0be6f66c"
      }
     },
     "metadata": {},
     "output_type": "display_data"
    },
    {
     "data": {
      "text/plain": "Processing articles:   0%|          | 0/20 [00:00<?, ?it/s]",
      "application/vnd.jupyter.widget-view+json": {
       "version_major": 2,
       "version_minor": 0,
       "model_id": "3f5375946f174dc896ae4076e19bd2e3"
      }
     },
     "metadata": {},
     "output_type": "display_data"
    },
    {
     "data": {
      "text/plain": "Processing articles:   0%|          | 0/20 [00:00<?, ?it/s]",
      "application/vnd.jupyter.widget-view+json": {
       "version_major": 2,
       "version_minor": 0,
       "model_id": "ea974729838a41a88caf90540d7d540e"
      }
     },
     "metadata": {},
     "output_type": "display_data"
    },
    {
     "data": {
      "text/plain": "Processing articles:   0%|          | 0/20 [00:00<?, ?it/s]",
      "application/vnd.jupyter.widget-view+json": {
       "version_major": 2,
       "version_minor": 0,
       "model_id": "49ae7c226d2d4421b732fa33390aeeb3"
      }
     },
     "metadata": {},
     "output_type": "display_data"
    },
    {
     "data": {
      "text/plain": "Processing articles:   0%|          | 0/20 [00:00<?, ?it/s]",
      "application/vnd.jupyter.widget-view+json": {
       "version_major": 2,
       "version_minor": 0,
       "model_id": "7da6cfb0810d4d87b9819c9c85aebb43"
      }
     },
     "metadata": {},
     "output_type": "display_data"
    },
    {
     "data": {
      "text/plain": "Processing articles:   0%|          | 0/20 [00:00<?, ?it/s]",
      "application/vnd.jupyter.widget-view+json": {
       "version_major": 2,
       "version_minor": 0,
       "model_id": "6253feb92df24ad7b624ac91c1f25258"
      }
     },
     "metadata": {},
     "output_type": "display_data"
    },
    {
     "data": {
      "text/plain": "Processing articles:   0%|          | 0/20 [00:00<?, ?it/s]",
      "application/vnd.jupyter.widget-view+json": {
       "version_major": 2,
       "version_minor": 0,
       "model_id": "1cc9d41452904178b3c7dd582b2f92e8"
      }
     },
     "metadata": {},
     "output_type": "display_data"
    },
    {
     "data": {
      "text/plain": "Processing articles:   0%|          | 0/20 [00:00<?, ?it/s]",
      "application/vnd.jupyter.widget-view+json": {
       "version_major": 2,
       "version_minor": 0,
       "model_id": "31bf5d1db714459c9ff763fd1136d7f1"
      }
     },
     "metadata": {},
     "output_type": "display_data"
    },
    {
     "data": {
      "text/plain": "Processing articles:   0%|          | 0/20 [00:00<?, ?it/s]",
      "application/vnd.jupyter.widget-view+json": {
       "version_major": 2,
       "version_minor": 0,
       "model_id": "0d2244c279774e5c99224d8f3f53ba87"
      }
     },
     "metadata": {},
     "output_type": "display_data"
    },
    {
     "data": {
      "text/plain": "Processing articles:   0%|          | 0/20 [00:00<?, ?it/s]",
      "application/vnd.jupyter.widget-view+json": {
       "version_major": 2,
       "version_minor": 0,
       "model_id": "da373b695fea4cc2af215439532f38e2"
      }
     },
     "metadata": {},
     "output_type": "display_data"
    },
    {
     "data": {
      "text/plain": "Processing articles:   0%|          | 0/20 [00:00<?, ?it/s]",
      "application/vnd.jupyter.widget-view+json": {
       "version_major": 2,
       "version_minor": 0,
       "model_id": "29e90c1dae3c41cba7dd0307012bb13e"
      }
     },
     "metadata": {},
     "output_type": "display_data"
    },
    {
     "data": {
      "text/plain": "Processing articles:   0%|          | 0/20 [00:00<?, ?it/s]",
      "application/vnd.jupyter.widget-view+json": {
       "version_major": 2,
       "version_minor": 0,
       "model_id": "ba8e1c51ca0e4d3dacf8539438fa7e08"
      }
     },
     "metadata": {},
     "output_type": "display_data"
    },
    {
     "data": {
      "text/plain": "Processing articles:   0%|          | 0/20 [00:00<?, ?it/s]",
      "application/vnd.jupyter.widget-view+json": {
       "version_major": 2,
       "version_minor": 0,
       "model_id": "96430f4902da41e993071cacd018128e"
      }
     },
     "metadata": {},
     "output_type": "display_data"
    },
    {
     "data": {
      "text/plain": "Processing articles:   0%|          | 0/20 [00:00<?, ?it/s]",
      "application/vnd.jupyter.widget-view+json": {
       "version_major": 2,
       "version_minor": 0,
       "model_id": "93255b8edabe45089271728b025af1e3"
      }
     },
     "metadata": {},
     "output_type": "display_data"
    },
    {
     "data": {
      "text/plain": "Processing articles:   0%|          | 0/20 [00:00<?, ?it/s]",
      "application/vnd.jupyter.widget-view+json": {
       "version_major": 2,
       "version_minor": 0,
       "model_id": "6f9eeaae894e4e2ca955ed68c129a907"
      }
     },
     "metadata": {},
     "output_type": "display_data"
    },
    {
     "data": {
      "text/plain": "Processing articles:   0%|          | 0/20 [00:00<?, ?it/s]",
      "application/vnd.jupyter.widget-view+json": {
       "version_major": 2,
       "version_minor": 0,
       "model_id": "7b267e1c0ba04cd69d0eb54d0e7c6a43"
      }
     },
     "metadata": {},
     "output_type": "display_data"
    },
    {
     "data": {
      "text/plain": "Processing articles:   0%|          | 0/20 [00:00<?, ?it/s]",
      "application/vnd.jupyter.widget-view+json": {
       "version_major": 2,
       "version_minor": 0,
       "model_id": "3e229530e1024911b56af6d78c23d716"
      }
     },
     "metadata": {},
     "output_type": "display_data"
    },
    {
     "data": {
      "text/plain": "Processing articles:   0%|          | 0/20 [00:00<?, ?it/s]",
      "application/vnd.jupyter.widget-view+json": {
       "version_major": 2,
       "version_minor": 0,
       "model_id": "1d3c7a448f1042b9955736e8170a6ca5"
      }
     },
     "metadata": {},
     "output_type": "display_data"
    },
    {
     "data": {
      "text/plain": "Processing articles:   0%|          | 0/20 [00:00<?, ?it/s]",
      "application/vnd.jupyter.widget-view+json": {
       "version_major": 2,
       "version_minor": 0,
       "model_id": "714514db7c1f4d9fb9e6269700bc260b"
      }
     },
     "metadata": {},
     "output_type": "display_data"
    },
    {
     "data": {
      "text/plain": "Processing articles:   0%|          | 0/20 [00:00<?, ?it/s]",
      "application/vnd.jupyter.widget-view+json": {
       "version_major": 2,
       "version_minor": 0,
       "model_id": "749513ecf0b14a4b90477914f11f4a27"
      }
     },
     "metadata": {},
     "output_type": "display_data"
    },
    {
     "data": {
      "text/plain": "Processing articles:   0%|          | 0/20 [00:00<?, ?it/s]",
      "application/vnd.jupyter.widget-view+json": {
       "version_major": 2,
       "version_minor": 0,
       "model_id": "777d6b93821c4421addfb093c9d0ae3b"
      }
     },
     "metadata": {},
     "output_type": "display_data"
    },
    {
     "data": {
      "text/plain": "Processing articles:   0%|          | 0/20 [00:00<?, ?it/s]",
      "application/vnd.jupyter.widget-view+json": {
       "version_major": 2,
       "version_minor": 0,
       "model_id": "ad0d9f2e8e924894bca2b350a3c9b793"
      }
     },
     "metadata": {},
     "output_type": "display_data"
    },
    {
     "data": {
      "text/plain": "Processing articles:   0%|          | 0/20 [00:00<?, ?it/s]",
      "application/vnd.jupyter.widget-view+json": {
       "version_major": 2,
       "version_minor": 0,
       "model_id": "fdcf1792408e4a48aaba6be61f5a4e69"
      }
     },
     "metadata": {},
     "output_type": "display_data"
    },
    {
     "data": {
      "text/plain": "Processing articles:   0%|          | 0/20 [00:00<?, ?it/s]",
      "application/vnd.jupyter.widget-view+json": {
       "version_major": 2,
       "version_minor": 0,
       "model_id": "ba877795f9b84ed182bf4700f61d70a9"
      }
     },
     "metadata": {},
     "output_type": "display_data"
    },
    {
     "data": {
      "text/plain": "Processing articles:   0%|          | 0/20 [00:00<?, ?it/s]",
      "application/vnd.jupyter.widget-view+json": {
       "version_major": 2,
       "version_minor": 0,
       "model_id": "ed2ec600dd894392aeb1314fd797bbba"
      }
     },
     "metadata": {},
     "output_type": "display_data"
    },
    {
     "data": {
      "text/plain": "Processing articles:   0%|          | 0/20 [00:00<?, ?it/s]",
      "application/vnd.jupyter.widget-view+json": {
       "version_major": 2,
       "version_minor": 0,
       "model_id": "f9edf1f30ab04a0485e18207bf0bead6"
      }
     },
     "metadata": {},
     "output_type": "display_data"
    },
    {
     "data": {
      "text/plain": "Processing articles:   0%|          | 0/20 [00:00<?, ?it/s]",
      "application/vnd.jupyter.widget-view+json": {
       "version_major": 2,
       "version_minor": 0,
       "model_id": "bb4f448777ac4b45a46a00dea024739a"
      }
     },
     "metadata": {},
     "output_type": "display_data"
    },
    {
     "data": {
      "text/plain": "Processing articles:   0%|          | 0/20 [00:00<?, ?it/s]",
      "application/vnd.jupyter.widget-view+json": {
       "version_major": 2,
       "version_minor": 0,
       "model_id": "1cafb6ed65f84e2182d76bfda9998287"
      }
     },
     "metadata": {},
     "output_type": "display_data"
    },
    {
     "data": {
      "text/plain": "Processing articles:   0%|          | 0/20 [00:00<?, ?it/s]",
      "application/vnd.jupyter.widget-view+json": {
       "version_major": 2,
       "version_minor": 0,
       "model_id": "d4ba2b136b0445d694f19a983c1a6131"
      }
     },
     "metadata": {},
     "output_type": "display_data"
    },
    {
     "data": {
      "text/plain": "Processing articles:   0%|          | 0/20 [00:00<?, ?it/s]",
      "application/vnd.jupyter.widget-view+json": {
       "version_major": 2,
       "version_minor": 0,
       "model_id": "b153c898c94746fc80f038707508f829"
      }
     },
     "metadata": {},
     "output_type": "display_data"
    },
    {
     "data": {
      "text/plain": "Processing articles:   0%|          | 0/20 [00:00<?, ?it/s]",
      "application/vnd.jupyter.widget-view+json": {
       "version_major": 2,
       "version_minor": 0,
       "model_id": "31c20e18dfaa46df90034d9b395af854"
      }
     },
     "metadata": {},
     "output_type": "display_data"
    }
   ],
   "source": [
    "with open('articles_1.csv', 'w', newline='', encoding='utf-8') as articles_f, \\\n",
    "        open('comments_1.csv', 'w', newline='', encoding='utf-8') as comments_f, \\\n",
    "        requests.Session() as session:\n",
    "    articles_writer = csv.DictWriter(articles_f, Article.__annotations__.keys())\n",
    "    comment_writer = csv.DictWriter(comments_f, Comment.__annotations__.keys())\n",
    "    \n",
    "    articles_writer.writeheader()\n",
    "    comment_writer.writeheader()\n",
    "    \n",
    "    for page_url in tqdm(generate_pages_urls(BASE_URL, MAX_PAGES), desc='Processing pages', total=MAX_PAGES):\n",
    "        response = session.get(page_url)\n",
    "        soup = BeautifulSoup(response.text, 'html.parser')\n",
    "        \n",
    "        articles = soup.find_all('a', class_='tm-title__link')\n",
    "        \n",
    "        for a in tqdm(articles, desc='Processing articles', leave=False):\n",
    "            article_url = urljoin(ROOT_URL, a.get('href'))\n",
    "            response = session.get(urljoin(article_url, 'comments/'))\n",
    "            soup = BeautifulSoup(response.text, 'html.parser')\n",
    "            \n",
    "            if 'articles' not in article_url:\n",
    "                continue\n",
    "            \n",
    "            article = parse_article(soup.find('div', class_='tm-article-comments__article-snippet'), article_url)\n",
    "            \n",
    "            articles_writer.writerow(asdict(article))  # CSV\n",
    "            \n",
    "            comments = soup.find_all('article', class_='tm-comment-thread__comment')\n",
    "            comments = [c for c in comments if\n",
    "                        c.find('div', class_='tm-comment__body-content_empty') is None]  # Check if comment is not empty\n",
    "            \n",
    "            for c in comments:\n",
    "                comment = parse_comment(c, article.id)\n",
    "                comment_writer.writerow(asdict(comment))  # CSV"
   ],
   "metadata": {
    "collapsed": false,
    "ExecuteTime": {
     "end_time": "2024-02-29T19:53:33.539657100Z",
     "start_time": "2024-02-29T19:42:21.107372600Z"
    }
   },
   "id": "39857bb858b2784d"
  }
 ],
 "metadata": {
  "kernelspec": {
   "display_name": "Python 3",
   "language": "python",
   "name": "python3"
  },
  "language_info": {
   "codemirror_mode": {
    "name": "ipython",
    "version": 2
   },
   "file_extension": ".py",
   "mimetype": "text/x-python",
   "name": "python",
   "nbconvert_exporter": "python",
   "pygments_lexer": "ipython2",
   "version": "2.7.6"
  }
 },
 "nbformat": 4,
 "nbformat_minor": 5
}
