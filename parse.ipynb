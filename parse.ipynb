{
 "cells": [
  {
   "cell_type": "code",
   "execution_count": 1,
   "id": "initial_id",
   "metadata": {
    "collapsed": true,
    "ExecuteTime": {
     "end_time": "2024-03-16T07:52:27.579070Z",
     "start_time": "2024-03-16T07:52:27.377476Z"
    }
   },
   "outputs": [],
   "source": [
    "import csv\n",
    "import re\n",
    "from dataclasses import asdict, dataclass\n",
    "from datetime import datetime\n",
    "from urllib.parse import urljoin\n",
    "\n",
    "import bs4.element\n",
    "import requests\n",
    "from bs4 import BeautifulSoup\n",
    "from tqdm.notebook import tqdm"
   ]
  },
  {
   "cell_type": "code",
   "execution_count": 2,
   "outputs": [],
   "source": [
    "ROOT_URL = 'https://habr.com/'\n",
    "BASE_URL = 'https://habr.com/ru/hubs/webdev/articles/'\n",
    "MAX_PAGES = 50"
   ],
   "metadata": {
    "collapsed": false,
    "ExecuteTime": {
     "end_time": "2024-03-16T07:52:27.584198Z",
     "start_time": "2024-03-16T07:52:27.580071Z"
    }
   },
   "id": "f001ed00fc3c08e2"
  },
  {
   "cell_type": "code",
   "execution_count": 3,
   "outputs": [],
   "source": [
    "@dataclass\n",
    "class Article:\n",
    "    id: int\n",
    "    author: str\n",
    "    published_datetime: datetime\n",
    "    title: str\n",
    "    url: str\n",
    "    complexity: str\n",
    "    reading_time: int\n",
    "    views: int\n",
    "    tags: list[str]\n",
    "    votes: int\n",
    "    bookmarks: int\n",
    "    comments: int\n",
    "\n",
    "\n",
    "@dataclass\n",
    "class Comment:\n",
    "    article_id: int\n",
    "    author: str\n",
    "    published_datetime: datetime\n",
    "    text: str\n",
    "    votes: int"
   ],
   "metadata": {
    "collapsed": false,
    "ExecuteTime": {
     "end_time": "2024-03-16T07:52:27.591342Z",
     "start_time": "2024-03-16T07:52:27.585197Z"
    }
   },
   "id": "2ecf11fd8d481602"
  },
  {
   "cell_type": "code",
   "execution_count": 4,
   "outputs": [],
   "source": [
    "def convert_str_to_datetime(iso_str: str) -> datetime:\n",
    "    return datetime.fromisoformat(iso_str.replace('Z', '+00:00'))\n",
    "\n",
    "\n",
    "def convert_views_to_int(views: str) -> int:\n",
    "    multiplier = 1\n",
    "    if 'K' in views:\n",
    "        multiplier = 1_000\n",
    "        views = views.replace('K', '')\n",
    "    elif 'M' in views:\n",
    "        multiplier = 1_000_000\n",
    "        views = views.replace('M', '')\n",
    "    \n",
    "    return int(float(views) * multiplier)\n",
    "\n",
    "\n",
    "def extract_int(int_str: str) -> int:\n",
    "    return int(re.search(r'\\d+', int_str).group())\n",
    "\n",
    "\n",
    "def get_text_or_none(tag: bs4.element.Tag | None, *args, **kwargs) -> str | None:\n",
    "    kwargs['strip'] = True\n",
    "    return tag.get_text(*args, **kwargs) if tag else None\n",
    "\n",
    "\n",
    "def get_id_from_url(url: str) -> int:\n",
    "    return int(re.search(r'/articles/(\\d+)/', url).group(1))"
   ],
   "metadata": {
    "collapsed": false,
    "ExecuteTime": {
     "end_time": "2024-03-16T07:52:27.597667Z",
     "start_time": "2024-03-16T07:52:27.592347Z"
    }
   },
   "id": "3bd194ec816903b4"
  },
  {
   "cell_type": "code",
   "execution_count": 5,
   "outputs": [],
   "source": [
    "def generate_pages_urls(base_url: str, max_pages: int):\n",
    "    for i in range(1, max_pages + 1):\n",
    "        yield urljoin(base_url, f'page{i}/')\n",
    "\n",
    "\n",
    "def parse_article(article: bs4.element.Tag, url: str) -> Article:\n",
    "    \"\"\" article = soup.find('div', class_=\"tm-article-snippet\") + soup.find('div', class_=\"tm-data-icons\")\"\"\"\n",
    "    id = get_id_from_url(url)\n",
    "    author = get_text_or_none(article.find('a', class_='tm-user-info__username'))\n",
    "    published_datetime = convert_str_to_datetime(article.find('time').get('datetime'))\n",
    "    title = get_text_or_none(article.find('h1', class_='tm-title'))\n",
    "    complexity = get_text_or_none(article.find('span', class_='tm-article-complexity__label'))\n",
    "    reading_time = extract_int(get_text_or_none(article.find('span', class_='tm-article-reading-time__label')))\n",
    "    views = convert_views_to_int(get_text_or_none(article.find('span', class_='tm-icon-counter__value')))\n",
    "    tags = [tag.find('span').get_text(strip=True) for tag in article.find_all('a', class_='tm-publication-hub__link')]\n",
    "    votes = extract_int(get_text_or_none(article.find('span', class_='tm-votes-meter__value')))\n",
    "    bookmarks = extract_int(get_text_or_none(article.find('span', class_='bookmarks-button__counter')))\n",
    "    comments = extract_int(get_text_or_none(article.find('span', class_='tm-article-comments-counter-link__value')))\n",
    "    \n",
    "    return Article(\n",
    "        id=id,\n",
    "        author=author,\n",
    "        published_datetime=published_datetime,\n",
    "        title=title,\n",
    "        url=url,\n",
    "        complexity=complexity,\n",
    "        reading_time=reading_time,\n",
    "        views=views,\n",
    "        tags=tags,\n",
    "        votes=votes,\n",
    "        bookmarks=bookmarks,\n",
    "        comments=comments,\n",
    "    )\n",
    "\n",
    "\n",
    "def parse_comment(comment: bs4.element.Tag, article_id: int) -> Comment:\n",
    "    \"\"\" comment = soup.find('article', class_='tm-comment-thread__comment') \"\"\"\n",
    "    author = get_text_or_none(comment.find('a', class_='tm-user-info__username'))\n",
    "    published_datetime = convert_str_to_datetime(comment.find('time').get('datetime'))\n",
    "    text = get_text_or_none(comment.find('div', class_='tm-comment__body-content'), '\\n')\n",
    "    votes = extract_int(get_text_or_none(comment.find('span', class_='tm-votes-meter__value')))\n",
    "    \n",
    "    return Comment(\n",
    "        article_id=article_id,\n",
    "        author=author,\n",
    "        published_datetime=published_datetime,\n",
    "        text=text,\n",
    "        votes=votes\n",
    "    )"
   ],
   "metadata": {
    "collapsed": false,
    "ExecuteTime": {
     "end_time": "2024-03-16T07:52:27.608333Z",
     "start_time": "2024-03-16T07:52:27.600663Z"
    }
   },
   "id": "1ad6a3cc6f2b2f34"
  },
  {
   "cell_type": "code",
   "execution_count": 6,
   "outputs": [
    {
     "data": {
      "text/plain": "Processing pages:   0%|          | 0/50 [00:00<?, ?it/s]",
      "application/vnd.jupyter.widget-view+json": {
       "version_major": 2,
       "version_minor": 0,
       "model_id": "efb00af70d17466cad4df09cb2b3b01a"
      }
     },
     "metadata": {},
     "output_type": "display_data"
    },
    {
     "data": {
      "text/plain": "Processing articles:   0%|          | 0/20 [00:00<?, ?it/s]",
      "application/vnd.jupyter.widget-view+json": {
       "version_major": 2,
       "version_minor": 0,
       "model_id": "7757bf8d290d4464916d28ae3a4b3207"
      }
     },
     "metadata": {},
     "output_type": "display_data"
    },
    {
     "data": {
      "text/plain": "Processing articles:   0%|          | 0/20 [00:00<?, ?it/s]",
      "application/vnd.jupyter.widget-view+json": {
       "version_major": 2,
       "version_minor": 0,
       "model_id": "84aca37c55444803a3300f0cef908e6b"
      }
     },
     "metadata": {},
     "output_type": "display_data"
    },
    {
     "data": {
      "text/plain": "Processing articles:   0%|          | 0/20 [00:00<?, ?it/s]",
      "application/vnd.jupyter.widget-view+json": {
       "version_major": 2,
       "version_minor": 0,
       "model_id": "dfc5fca2d5e648898ca0e3433da3070f"
      }
     },
     "metadata": {},
     "output_type": "display_data"
    },
    {
     "data": {
      "text/plain": "Processing articles:   0%|          | 0/20 [00:00<?, ?it/s]",
      "application/vnd.jupyter.widget-view+json": {
       "version_major": 2,
       "version_minor": 0,
       "model_id": "8656064da66b49b3ad1ee14d0e039a13"
      }
     },
     "metadata": {},
     "output_type": "display_data"
    },
    {
     "data": {
      "text/plain": "Processing articles:   0%|          | 0/20 [00:00<?, ?it/s]",
      "application/vnd.jupyter.widget-view+json": {
       "version_major": 2,
       "version_minor": 0,
       "model_id": "a871c51ccccd4f9fbb77d8cb54b5b66a"
      }
     },
     "metadata": {},
     "output_type": "display_data"
    },
    {
     "data": {
      "text/plain": "Processing articles:   0%|          | 0/20 [00:00<?, ?it/s]",
      "application/vnd.jupyter.widget-view+json": {
       "version_major": 2,
       "version_minor": 0,
       "model_id": "e321d3c97d174dbeb47ccea094ce2d83"
      }
     },
     "metadata": {},
     "output_type": "display_data"
    },
    {
     "data": {
      "text/plain": "Processing articles:   0%|          | 0/20 [00:00<?, ?it/s]",
      "application/vnd.jupyter.widget-view+json": {
       "version_major": 2,
       "version_minor": 0,
       "model_id": "bb25cfd3233a457bbdd26950a4847ffa"
      }
     },
     "metadata": {},
     "output_type": "display_data"
    },
    {
     "data": {
      "text/plain": "Processing articles:   0%|          | 0/20 [00:00<?, ?it/s]",
      "application/vnd.jupyter.widget-view+json": {
       "version_major": 2,
       "version_minor": 0,
       "model_id": "fd00265870cf472a910660038ac79ef9"
      }
     },
     "metadata": {},
     "output_type": "display_data"
    },
    {
     "data": {
      "text/plain": "Processing articles:   0%|          | 0/20 [00:00<?, ?it/s]",
      "application/vnd.jupyter.widget-view+json": {
       "version_major": 2,
       "version_minor": 0,
       "model_id": "8d6eadec0b77443b8e66e22ca782f796"
      }
     },
     "metadata": {},
     "output_type": "display_data"
    },
    {
     "data": {
      "text/plain": "Processing articles:   0%|          | 0/20 [00:00<?, ?it/s]",
      "application/vnd.jupyter.widget-view+json": {
       "version_major": 2,
       "version_minor": 0,
       "model_id": "539d67a85cd5413ba908c7cc68885792"
      }
     },
     "metadata": {},
     "output_type": "display_data"
    },
    {
     "data": {
      "text/plain": "Processing articles:   0%|          | 0/20 [00:00<?, ?it/s]",
      "application/vnd.jupyter.widget-view+json": {
       "version_major": 2,
       "version_minor": 0,
       "model_id": "6951651e3f004cf8b5977742fd282d3f"
      }
     },
     "metadata": {},
     "output_type": "display_data"
    },
    {
     "data": {
      "text/plain": "Processing articles:   0%|          | 0/20 [00:00<?, ?it/s]",
      "application/vnd.jupyter.widget-view+json": {
       "version_major": 2,
       "version_minor": 0,
       "model_id": "cdb86a367fcf4aaeab2a9649dfab2a78"
      }
     },
     "metadata": {},
     "output_type": "display_data"
    },
    {
     "data": {
      "text/plain": "Processing articles:   0%|          | 0/20 [00:00<?, ?it/s]",
      "application/vnd.jupyter.widget-view+json": {
       "version_major": 2,
       "version_minor": 0,
       "model_id": "c97f8f94450a424c95d8123a6e2434f9"
      }
     },
     "metadata": {},
     "output_type": "display_data"
    },
    {
     "data": {
      "text/plain": "Processing articles:   0%|          | 0/20 [00:00<?, ?it/s]",
      "application/vnd.jupyter.widget-view+json": {
       "version_major": 2,
       "version_minor": 0,
       "model_id": "ea8c3870aa644b7985789365d015154f"
      }
     },
     "metadata": {},
     "output_type": "display_data"
    },
    {
     "data": {
      "text/plain": "Processing articles:   0%|          | 0/20 [00:00<?, ?it/s]",
      "application/vnd.jupyter.widget-view+json": {
       "version_major": 2,
       "version_minor": 0,
       "model_id": "f0e11173a2b2418a9d5e57237352800b"
      }
     },
     "metadata": {},
     "output_type": "display_data"
    },
    {
     "data": {
      "text/plain": "Processing articles:   0%|          | 0/20 [00:00<?, ?it/s]",
      "application/vnd.jupyter.widget-view+json": {
       "version_major": 2,
       "version_minor": 0,
       "model_id": "ba58dc6ce1f84cabaa751e0361801a95"
      }
     },
     "metadata": {},
     "output_type": "display_data"
    },
    {
     "data": {
      "text/plain": "Processing articles:   0%|          | 0/20 [00:00<?, ?it/s]",
      "application/vnd.jupyter.widget-view+json": {
       "version_major": 2,
       "version_minor": 0,
       "model_id": "b83b892df41b4e2aa041b34fdfcc9050"
      }
     },
     "metadata": {},
     "output_type": "display_data"
    },
    {
     "data": {
      "text/plain": "Processing articles:   0%|          | 0/20 [00:00<?, ?it/s]",
      "application/vnd.jupyter.widget-view+json": {
       "version_major": 2,
       "version_minor": 0,
       "model_id": "8c26c1100a704ab296e3511caae9ee89"
      }
     },
     "metadata": {},
     "output_type": "display_data"
    },
    {
     "data": {
      "text/plain": "Processing articles:   0%|          | 0/20 [00:00<?, ?it/s]",
      "application/vnd.jupyter.widget-view+json": {
       "version_major": 2,
       "version_minor": 0,
       "model_id": "83c5f8ab565e4254946a2e56fa4d61fa"
      }
     },
     "metadata": {},
     "output_type": "display_data"
    },
    {
     "data": {
      "text/plain": "Processing articles:   0%|          | 0/20 [00:00<?, ?it/s]",
      "application/vnd.jupyter.widget-view+json": {
       "version_major": 2,
       "version_minor": 0,
       "model_id": "7ea7c4c9047f413f96d135aa09cf3046"
      }
     },
     "metadata": {},
     "output_type": "display_data"
    },
    {
     "data": {
      "text/plain": "Processing articles:   0%|          | 0/20 [00:00<?, ?it/s]",
      "application/vnd.jupyter.widget-view+json": {
       "version_major": 2,
       "version_minor": 0,
       "model_id": "5cb306e7788848d79c87ecb07d9ecc4d"
      }
     },
     "metadata": {},
     "output_type": "display_data"
    },
    {
     "data": {
      "text/plain": "Processing articles:   0%|          | 0/20 [00:00<?, ?it/s]",
      "application/vnd.jupyter.widget-view+json": {
       "version_major": 2,
       "version_minor": 0,
       "model_id": "89fcd1da962b4de7a430f1379923d88d"
      }
     },
     "metadata": {},
     "output_type": "display_data"
    },
    {
     "data": {
      "text/plain": "Processing articles:   0%|          | 0/20 [00:00<?, ?it/s]",
      "application/vnd.jupyter.widget-view+json": {
       "version_major": 2,
       "version_minor": 0,
       "model_id": "5a257ab711a64f089f8b214893d66613"
      }
     },
     "metadata": {},
     "output_type": "display_data"
    },
    {
     "data": {
      "text/plain": "Processing articles:   0%|          | 0/20 [00:00<?, ?it/s]",
      "application/vnd.jupyter.widget-view+json": {
       "version_major": 2,
       "version_minor": 0,
       "model_id": "7c942ce4465d4d3ca893ed4c47fceb25"
      }
     },
     "metadata": {},
     "output_type": "display_data"
    },
    {
     "data": {
      "text/plain": "Processing articles:   0%|          | 0/20 [00:00<?, ?it/s]",
      "application/vnd.jupyter.widget-view+json": {
       "version_major": 2,
       "version_minor": 0,
       "model_id": "93beff41b5014dceb007601610ffcca2"
      }
     },
     "metadata": {},
     "output_type": "display_data"
    },
    {
     "data": {
      "text/plain": "Processing articles:   0%|          | 0/20 [00:00<?, ?it/s]",
      "application/vnd.jupyter.widget-view+json": {
       "version_major": 2,
       "version_minor": 0,
       "model_id": "b49c1ec724f14a2fbadc456c34efa301"
      }
     },
     "metadata": {},
     "output_type": "display_data"
    },
    {
     "data": {
      "text/plain": "Processing articles:   0%|          | 0/20 [00:00<?, ?it/s]",
      "application/vnd.jupyter.widget-view+json": {
       "version_major": 2,
       "version_minor": 0,
       "model_id": "4cfe984d143747adba1a2914511110a9"
      }
     },
     "metadata": {},
     "output_type": "display_data"
    },
    {
     "data": {
      "text/plain": "Processing articles:   0%|          | 0/20 [00:00<?, ?it/s]",
      "application/vnd.jupyter.widget-view+json": {
       "version_major": 2,
       "version_minor": 0,
       "model_id": "3eebf2f12b814d3e9c46a491eb06aa82"
      }
     },
     "metadata": {},
     "output_type": "display_data"
    },
    {
     "data": {
      "text/plain": "Processing articles:   0%|          | 0/20 [00:00<?, ?it/s]",
      "application/vnd.jupyter.widget-view+json": {
       "version_major": 2,
       "version_minor": 0,
       "model_id": "344c2e669d524dbeab9ee30380ace54a"
      }
     },
     "metadata": {},
     "output_type": "display_data"
    },
    {
     "data": {
      "text/plain": "Processing articles:   0%|          | 0/20 [00:00<?, ?it/s]",
      "application/vnd.jupyter.widget-view+json": {
       "version_major": 2,
       "version_minor": 0,
       "model_id": "aa33fbd26cb54758be1c3eac1c67b895"
      }
     },
     "metadata": {},
     "output_type": "display_data"
    },
    {
     "data": {
      "text/plain": "Processing articles:   0%|          | 0/20 [00:00<?, ?it/s]",
      "application/vnd.jupyter.widget-view+json": {
       "version_major": 2,
       "version_minor": 0,
       "model_id": "c172ab18483544338d3ac39553a4c7a5"
      }
     },
     "metadata": {},
     "output_type": "display_data"
    },
    {
     "data": {
      "text/plain": "Processing articles:   0%|          | 0/20 [00:00<?, ?it/s]",
      "application/vnd.jupyter.widget-view+json": {
       "version_major": 2,
       "version_minor": 0,
       "model_id": "0f95056720bb40e7ae5e43650c90ba73"
      }
     },
     "metadata": {},
     "output_type": "display_data"
    },
    {
     "data": {
      "text/plain": "Processing articles:   0%|          | 0/20 [00:00<?, ?it/s]",
      "application/vnd.jupyter.widget-view+json": {
       "version_major": 2,
       "version_minor": 0,
       "model_id": "ef6fc19386764cb5bc41ed536114bd9f"
      }
     },
     "metadata": {},
     "output_type": "display_data"
    },
    {
     "data": {
      "text/plain": "Processing articles:   0%|          | 0/20 [00:00<?, ?it/s]",
      "application/vnd.jupyter.widget-view+json": {
       "version_major": 2,
       "version_minor": 0,
       "model_id": "7e72aca5e1ac4cbc9c2876658f389740"
      }
     },
     "metadata": {},
     "output_type": "display_data"
    },
    {
     "data": {
      "text/plain": "Processing articles:   0%|          | 0/20 [00:00<?, ?it/s]",
      "application/vnd.jupyter.widget-view+json": {
       "version_major": 2,
       "version_minor": 0,
       "model_id": "747e97ef2fb84941a7eb4a757cb9f4b0"
      }
     },
     "metadata": {},
     "output_type": "display_data"
    },
    {
     "data": {
      "text/plain": "Processing articles:   0%|          | 0/20 [00:00<?, ?it/s]",
      "application/vnd.jupyter.widget-view+json": {
       "version_major": 2,
       "version_minor": 0,
       "model_id": "46689969562e4e8daf5f7700b6baeb3f"
      }
     },
     "metadata": {},
     "output_type": "display_data"
    },
    {
     "data": {
      "text/plain": "Processing articles:   0%|          | 0/20 [00:00<?, ?it/s]",
      "application/vnd.jupyter.widget-view+json": {
       "version_major": 2,
       "version_minor": 0,
       "model_id": "886e43c056134d3fbf7825b6757a96a5"
      }
     },
     "metadata": {},
     "output_type": "display_data"
    },
    {
     "data": {
      "text/plain": "Processing articles:   0%|          | 0/20 [00:00<?, ?it/s]",
      "application/vnd.jupyter.widget-view+json": {
       "version_major": 2,
       "version_minor": 0,
       "model_id": "6d667e73d42c44adbdb17f28752c1862"
      }
     },
     "metadata": {},
     "output_type": "display_data"
    },
    {
     "data": {
      "text/plain": "Processing articles:   0%|          | 0/20 [00:00<?, ?it/s]",
      "application/vnd.jupyter.widget-view+json": {
       "version_major": 2,
       "version_minor": 0,
       "model_id": "de6b839815c043bd80e67808ce3d3e22"
      }
     },
     "metadata": {},
     "output_type": "display_data"
    },
    {
     "data": {
      "text/plain": "Processing articles:   0%|          | 0/20 [00:00<?, ?it/s]",
      "application/vnd.jupyter.widget-view+json": {
       "version_major": 2,
       "version_minor": 0,
       "model_id": "f9810c4922e348e88b3ef710f800418c"
      }
     },
     "metadata": {},
     "output_type": "display_data"
    },
    {
     "data": {
      "text/plain": "Processing articles:   0%|          | 0/20 [00:00<?, ?it/s]",
      "application/vnd.jupyter.widget-view+json": {
       "version_major": 2,
       "version_minor": 0,
       "model_id": "e8d4eff56e564c0a997e34c24f6b5eeb"
      }
     },
     "metadata": {},
     "output_type": "display_data"
    },
    {
     "data": {
      "text/plain": "Processing articles:   0%|          | 0/20 [00:00<?, ?it/s]",
      "application/vnd.jupyter.widget-view+json": {
       "version_major": 2,
       "version_minor": 0,
       "model_id": "3953cd8d60df49fda01a753ce964c004"
      }
     },
     "metadata": {},
     "output_type": "display_data"
    },
    {
     "data": {
      "text/plain": "Processing articles:   0%|          | 0/20 [00:00<?, ?it/s]",
      "application/vnd.jupyter.widget-view+json": {
       "version_major": 2,
       "version_minor": 0,
       "model_id": "744d93ea5b0849279ce9b217efbc2110"
      }
     },
     "metadata": {},
     "output_type": "display_data"
    },
    {
     "data": {
      "text/plain": "Processing articles:   0%|          | 0/20 [00:00<?, ?it/s]",
      "application/vnd.jupyter.widget-view+json": {
       "version_major": 2,
       "version_minor": 0,
       "model_id": "9c0bdce5723845f0813666fa3dcf637e"
      }
     },
     "metadata": {},
     "output_type": "display_data"
    },
    {
     "data": {
      "text/plain": "Processing articles:   0%|          | 0/20 [00:00<?, ?it/s]",
      "application/vnd.jupyter.widget-view+json": {
       "version_major": 2,
       "version_minor": 0,
       "model_id": "8089b7ccfc1042c393989be0dcfd491d"
      }
     },
     "metadata": {},
     "output_type": "display_data"
    },
    {
     "data": {
      "text/plain": "Processing articles:   0%|          | 0/20 [00:00<?, ?it/s]",
      "application/vnd.jupyter.widget-view+json": {
       "version_major": 2,
       "version_minor": 0,
       "model_id": "8c197f50859b4e18a1845c1702bff500"
      }
     },
     "metadata": {},
     "output_type": "display_data"
    },
    {
     "data": {
      "text/plain": "Processing articles:   0%|          | 0/20 [00:00<?, ?it/s]",
      "application/vnd.jupyter.widget-view+json": {
       "version_major": 2,
       "version_minor": 0,
       "model_id": "b5fe816ddae54294a76b825c3f1a5b05"
      }
     },
     "metadata": {},
     "output_type": "display_data"
    },
    {
     "data": {
      "text/plain": "Processing articles:   0%|          | 0/20 [00:00<?, ?it/s]",
      "application/vnd.jupyter.widget-view+json": {
       "version_major": 2,
       "version_minor": 0,
       "model_id": "2c9969de50044df0b1f651f99fe1e19d"
      }
     },
     "metadata": {},
     "output_type": "display_data"
    },
    {
     "data": {
      "text/plain": "Processing articles:   0%|          | 0/20 [00:00<?, ?it/s]",
      "application/vnd.jupyter.widget-view+json": {
       "version_major": 2,
       "version_minor": 0,
       "model_id": "2988cf056f7641b48cd294c1acd1f6f5"
      }
     },
     "metadata": {},
     "output_type": "display_data"
    },
    {
     "data": {
      "text/plain": "Processing articles:   0%|          | 0/20 [00:00<?, ?it/s]",
      "application/vnd.jupyter.widget-view+json": {
       "version_major": 2,
       "version_minor": 0,
       "model_id": "86ae385699a34919a5a2ce3e7f1c1aa9"
      }
     },
     "metadata": {},
     "output_type": "display_data"
    }
   ],
   "source": [
    "with open('data/articles.csv', 'w', newline='', encoding='utf-8') as articles_f, \\\n",
    "        open('data/comments.csv', 'w', newline='', encoding='utf-8') as comments_f, \\\n",
    "        requests.Session() as session:\n",
    "    articles_writer = csv.DictWriter(articles_f, Article.__annotations__.keys())\n",
    "    comment_writer = csv.DictWriter(comments_f, Comment.__annotations__.keys())\n",
    "    \n",
    "    articles_writer.writeheader()\n",
    "    comment_writer.writeheader()\n",
    "    \n",
    "    for page_url in tqdm(generate_pages_urls(BASE_URL, MAX_PAGES), desc='Processing pages', total=MAX_PAGES):\n",
    "        response = session.get(page_url)\n",
    "        soup = BeautifulSoup(response.text, 'html.parser')\n",
    "        \n",
    "        articles = soup.find_all('a', class_='tm-title__link')\n",
    "        \n",
    "        for a in tqdm(articles, desc='Processing articles', leave=False):\n",
    "            article_url = urljoin(ROOT_URL, a.get('href'))\n",
    "            response = session.get(urljoin(article_url, 'comments/'))\n",
    "            soup = BeautifulSoup(response.text, 'html.parser')\n",
    "            \n",
    "            if 'articles' not in article_url:\n",
    "                continue\n",
    "            \n",
    "            article = parse_article(soup.find('div', class_='tm-article-comments__article-snippet'), article_url)\n",
    "            \n",
    "            articles_writer.writerow(asdict(article))  # CSV\n",
    "            \n",
    "            comments = soup.find_all('article', class_='tm-comment-thread__comment')\n",
    "            comments = [c for c in comments if\n",
    "                        c.find('div', class_='tm-comment__body-content_empty') is None]  # Check if comment is not empty\n",
    "            \n",
    "            for c in comments:\n",
    "                comment = parse_comment(c, article.id)\n",
    "                comment_writer.writerow(asdict(comment))  # CSV"
   ],
   "metadata": {
    "collapsed": false,
    "ExecuteTime": {
     "end_time": "2024-03-16T08:04:03.715087Z",
     "start_time": "2024-03-16T07:52:27.609333Z"
    }
   },
   "id": "39857bb858b2784d"
  },
  {
   "cell_type": "code",
   "outputs": [],
   "source": [],
   "metadata": {
    "collapsed": false,
    "ExecuteTime": {
     "end_time": "2024-03-16T08:04:03.718452Z",
     "start_time": "2024-03-16T08:04:03.716087Z"
    }
   },
   "id": "675a2a05bf262488",
   "execution_count": 6
  }
 ],
 "metadata": {
  "kernelspec": {
   "display_name": "Python 3",
   "language": "python",
   "name": "python3"
  },
  "language_info": {
   "codemirror_mode": {
    "name": "ipython",
    "version": 2
   },
   "file_extension": ".py",
   "mimetype": "text/x-python",
   "name": "python",
   "nbconvert_exporter": "python",
   "pygments_lexer": "ipython2",
   "version": "2.7.6"
  }
 },
 "nbformat": 4,
 "nbformat_minor": 5
}
