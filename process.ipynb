{
 "cells": [
  {
   "cell_type": "code",
   "execution_count": 1,
   "id": "initial_id",
   "metadata": {
    "collapsed": true,
    "ExecuteTime": {
     "end_time": "2024-03-16T09:29:58.617413Z",
     "start_time": "2024-03-16T09:29:56.114383Z"
    }
   },
   "outputs": [],
   "source": [
    "import ast\n",
    "import json\n",
    "import re\n",
    "\n",
    "import nltk\n",
    "import pandas as pd\n",
    "import pymorphy2\n",
    "from nltk import WordNetLemmatizer\n",
    "from nltk.corpus import stopwords\n",
    "from nltk.tokenize import word_tokenize\n",
    "from tqdm.notebook import tqdm"
   ]
  },
  {
   "cell_type": "code",
   "outputs": [
    {
     "name": "stderr",
     "output_type": "stream",
     "text": [
      "[nltk_data] Downloading package stopwords to\n",
      "[nltk_data]     C:\\Users\\pocan\\AppData\\Roaming\\nltk_data...\n",
      "[nltk_data]   Package stopwords is already up-to-date!\n",
      "[nltk_data] Downloading package punkt to\n",
      "[nltk_data]     C:\\Users\\pocan\\AppData\\Roaming\\nltk_data...\n",
      "[nltk_data]   Package punkt is already up-to-date!\n",
      "[nltk_data] Downloading package wordnet to\n",
      "[nltk_data]     C:\\Users\\pocan\\AppData\\Roaming\\nltk_data...\n",
      "[nltk_data]   Package wordnet is already up-to-date!\n"
     ]
    }
   ],
   "source": [
    "# %%capture\n",
    "# nltk.download('stopwords')\n",
    "# nltk.download('punkt')\n",
    "# nltk.download('wordnet')"
   ],
   "metadata": {
    "collapsed": false,
    "ExecuteTime": {
     "end_time": "2024-03-16T09:29:58.822080Z",
     "start_time": "2024-03-16T09:29:58.621405Z"
    }
   },
   "id": "b62ed6108f854bd1",
   "execution_count": 2
  },
  {
   "cell_type": "code",
   "execution_count": 3,
   "outputs": [],
   "source": [
    "import warnings\n",
    "\n",
    "warnings.filterwarnings('ignore')"
   ],
   "metadata": {
    "collapsed": false,
    "ExecuteTime": {
     "end_time": "2024-03-16T09:29:58.826104Z",
     "start_time": "2024-03-16T09:29:58.823079Z"
    }
   },
   "id": "3e48201a8dec63c2"
  },
  {
   "cell_type": "code",
   "execution_count": 4,
   "outputs": [],
   "source": [
    "def pymorphy2_311_hotfix():\n",
    "    from inspect import getfullargspec\n",
    "    from pymorphy2.units.base import BaseAnalyzerUnit\n",
    "\n",
    "    def _get_param_names_311(klass):\n",
    "        if klass.__init__ is object.__init__:\n",
    "            return []\n",
    "        args = getfullargspec(klass.__init__).args\n",
    "        return sorted(args[1:])\n",
    "\n",
    "    setattr(BaseAnalyzerUnit, '_get_param_names', _get_param_names_311)\n",
    "\n",
    "\n",
    "pymorphy2_311_hotfix()"
   ],
   "metadata": {
    "collapsed": false,
    "ExecuteTime": {
     "end_time": "2024-03-16T09:29:58.832307Z",
     "start_time": "2024-03-16T09:29:58.828105Z"
    }
   },
   "id": "6b065dbf6083a6ec"
  },
  {
   "cell_type": "code",
   "execution_count": 5,
   "outputs": [],
   "source": [
    "articles = pd.read_csv('data/articles.csv')\n",
    "comments = pd.read_csv('data/comments.csv')"
   ],
   "metadata": {
    "collapsed": false,
    "ExecuteTime": {
     "end_time": "2024-03-16T09:29:59.025402Z",
     "start_time": "2024-03-16T09:29:58.834307Z"
    }
   },
   "id": "518c0d9a637635bd"
  },
  {
   "cell_type": "code",
   "execution_count": 6,
   "outputs": [
    {
     "data": {
      "text/plain": "article_id                          int64\nauthor                             object\npublished_datetime    datetime64[ns, UTC]\ntext                               object\nvotes                               int64\ndtype: object"
     },
     "execution_count": 6,
     "metadata": {},
     "output_type": "execute_result"
    }
   ],
   "source": [
    "comments['published_datetime'] = pd.to_datetime(comments['published_datetime'])\n",
    "\n",
    "comments.dtypes"
   ],
   "metadata": {
    "collapsed": false,
    "ExecuteTime": {
     "end_time": "2024-03-16T09:29:59.057485Z",
     "start_time": "2024-03-16T09:29:59.026418Z"
    }
   },
   "id": "a7d71db604d03a02"
  },
  {
   "cell_type": "code",
   "execution_count": 7,
   "outputs": [
    {
     "data": {
      "text/plain": "       article_id         author        published_datetime  \\\n6195       767274    nameless323 2023-10-21 16:12:51+00:00   \n11394      741040    Ahuromazdie 2023-06-10 09:02:52+00:00   \n9322       756242  rob2akhiyarov 2023-08-27 19:31:58+00:00   \n304        798923        Budarin 2024-03-09 01:46:04+00:00   \n14063      719352  nik_savchenko 2023-02-28 12:37:43+00:00   \n5434       771438        bquadro 2023-11-17 12:31:01+00:00   \n12042      736598        kai3341 2023-05-22 00:16:47+00:00   \n2346       787606      aamonster 2024-01-20 13:08:43+00:00   \n17296      700964         Ilusha 2022-11-28 09:24:38+00:00   \n18471      687520      kulikofff 2022-09-21 21:45:05+00:00   \n\n                                                    text  votes  \n6195   а то вы меня совсем заминусуете с причиной\\nЯ ...      0  \n11394  Лучше просто уточнить в какой среде (хотя врод...      1  \n9322   Мне не нравится то, как tailwind в своем основ...      0  \n304    я правда не понял ваш вопрос про концепции\\nсф...      0  \n14063                  Спасибо, думаю, этого достаточно)      0  \n5434   Всем спасибо за уточнения про неточности в код...      0  \n12042  для меня было важным критерием 500+ звёзд\\nВы ...      2  \n2346   Если ссылаться на математику – то дойдём до то...      0  \n17296  Ваша задача решается проще через vue2.7+. Вы м...      0  \n18471                                           Спасибо.      2  ",
      "text/html": "<div>\n<style scoped>\n    .dataframe tbody tr th:only-of-type {\n        vertical-align: middle;\n    }\n\n    .dataframe tbody tr th {\n        vertical-align: top;\n    }\n\n    .dataframe thead th {\n        text-align: right;\n    }\n</style>\n<table border=\"1\" class=\"dataframe\">\n  <thead>\n    <tr style=\"text-align: right;\">\n      <th></th>\n      <th>article_id</th>\n      <th>author</th>\n      <th>published_datetime</th>\n      <th>text</th>\n      <th>votes</th>\n    </tr>\n  </thead>\n  <tbody>\n    <tr>\n      <th>6195</th>\n      <td>767274</td>\n      <td>nameless323</td>\n      <td>2023-10-21 16:12:51+00:00</td>\n      <td>а то вы меня совсем заминусуете с причиной\\nЯ ...</td>\n      <td>0</td>\n    </tr>\n    <tr>\n      <th>11394</th>\n      <td>741040</td>\n      <td>Ahuromazdie</td>\n      <td>2023-06-10 09:02:52+00:00</td>\n      <td>Лучше просто уточнить в какой среде (хотя врод...</td>\n      <td>1</td>\n    </tr>\n    <tr>\n      <th>9322</th>\n      <td>756242</td>\n      <td>rob2akhiyarov</td>\n      <td>2023-08-27 19:31:58+00:00</td>\n      <td>Мне не нравится то, как tailwind в своем основ...</td>\n      <td>0</td>\n    </tr>\n    <tr>\n      <th>304</th>\n      <td>798923</td>\n      <td>Budarin</td>\n      <td>2024-03-09 01:46:04+00:00</td>\n      <td>я правда не понял ваш вопрос про концепции\\nсф...</td>\n      <td>0</td>\n    </tr>\n    <tr>\n      <th>14063</th>\n      <td>719352</td>\n      <td>nik_savchenko</td>\n      <td>2023-02-28 12:37:43+00:00</td>\n      <td>Спасибо, думаю, этого достаточно)</td>\n      <td>0</td>\n    </tr>\n    <tr>\n      <th>5434</th>\n      <td>771438</td>\n      <td>bquadro</td>\n      <td>2023-11-17 12:31:01+00:00</td>\n      <td>Всем спасибо за уточнения про неточности в код...</td>\n      <td>0</td>\n    </tr>\n    <tr>\n      <th>12042</th>\n      <td>736598</td>\n      <td>kai3341</td>\n      <td>2023-05-22 00:16:47+00:00</td>\n      <td>для меня было важным критерием 500+ звёзд\\nВы ...</td>\n      <td>2</td>\n    </tr>\n    <tr>\n      <th>2346</th>\n      <td>787606</td>\n      <td>aamonster</td>\n      <td>2024-01-20 13:08:43+00:00</td>\n      <td>Если ссылаться на математику – то дойдём до то...</td>\n      <td>0</td>\n    </tr>\n    <tr>\n      <th>17296</th>\n      <td>700964</td>\n      <td>Ilusha</td>\n      <td>2022-11-28 09:24:38+00:00</td>\n      <td>Ваша задача решается проще через vue2.7+. Вы м...</td>\n      <td>0</td>\n    </tr>\n    <tr>\n      <th>18471</th>\n      <td>687520</td>\n      <td>kulikofff</td>\n      <td>2022-09-21 21:45:05+00:00</td>\n      <td>Спасибо.</td>\n      <td>2</td>\n    </tr>\n  </tbody>\n</table>\n</div>"
     },
     "execution_count": 7,
     "metadata": {},
     "output_type": "execute_result"
    }
   ],
   "source": [
    "comments.sample(10)"
   ],
   "metadata": {
    "collapsed": false,
    "ExecuteTime": {
     "end_time": "2024-03-16T09:29:59.069935Z",
     "start_time": "2024-03-16T09:29:59.058485Z"
    }
   },
   "id": "53affe72d12bd719"
  },
  {
   "cell_type": "code",
   "execution_count": 8,
   "outputs": [
    {
     "data": {
      "text/plain": "id                                  int64\nauthor                             object\npublished_datetime    datetime64[ns, UTC]\ntitle                              object\nurl                                object\ncomplexity                         object\nreading_time                        int64\nviews                               int64\ntags                               object\nvotes                               int64\nbookmarks                           int64\ncomments                            int64\ndtype: object"
     },
     "execution_count": 8,
     "metadata": {},
     "output_type": "execute_result"
    }
   ],
   "source": [
    "articles['published_datetime'] = pd.to_datetime(articles['published_datetime'])\n",
    "articles['tags'] = articles['tags'].astype(str).apply(ast.literal_eval)\n",
    "\n",
    "articles.dtypes"
   ],
   "metadata": {
    "collapsed": false,
    "ExecuteTime": {
     "end_time": "2024-03-16T09:29:59.091548Z",
     "start_time": "2024-03-16T09:29:59.070936Z"
    }
   },
   "id": "e609709a229f4cc6"
  },
  {
   "cell_type": "code",
   "execution_count": 9,
   "outputs": [
    {
     "data": {
      "text/plain": "         id                   author        published_datetime  \\\n986  686748                fazdendev 2022-09-06 14:41:05+00:00   \n825  708850                 Lavitard 2023-01-01 20:48:38+00:00   \n174  769150                  Green21 2024-01-11 08:57:39+00:00   \n226  779492           cherkalexander 2023-12-12 08:57:17+00:00   \n730  720528                 shasoftX 2023-03-06 05:15:39+00:00   \n247  778316                   VeXell 2023-12-04 12:33:09+00:00   \n359  764888                xtremespb 2023-10-05 10:20:51+00:00   \n627  733302               mixkorshun 2023-05-10 14:23:56+00:00   \n269  772500  Konstantin_Loginovskikh 2023-11-22 11:56:03+00:00   \n591  737856                 ph_piter 2023-05-31 14:16:33+00:00   \n\n                                                 title  \\\n986  Добавление масштабирования страницы при ширине...   \n825  Удобный прогноз северного сияния: в цветах и г...   \n174  Пишем 2D игру на JavaScript и Canvas. Часть 2....   \n226  Как автоматизировать использование дизайн токе...   \n730  Samoyed CMG — пользовательские генераторы кодо...   \n247  Улучшаем возможности PM2 с помощью дополнитель...   \n359   Heretic: full stack фреймворк на основе Marko.js   \n627  7 ошибок глобального рефакторинга и как их изб...   \n269  Frontend Talks: как упростить создание контекс...   \n591                 Книга «JavaScript с нуля до профи»   \n\n                                                   url complexity  \\\n986               https://habr.com/ru/articles/686748/        NaN   \n825               https://habr.com/ru/articles/708850/        NaN   \n174               https://habr.com/ru/articles/769150/    Простой   \n226               https://habr.com/ru/articles/779492/    Простой   \n730               https://habr.com/ru/articles/720528/    Простой   \n247               https://habr.com/ru/articles/778316/    Простой   \n359               https://habr.com/ru/articles/764888/    Средний   \n627               https://habr.com/ru/articles/733302/        NaN   \n269  https://habr.com/ru/companies/cloud_ru/article...        NaN   \n591  https://habr.com/ru/companies/piter/articles/7...        NaN   \n\n     reading_time  views                                               tags  \\\n986             5   8200                        [Веб-разработка, CSS, HTML]   \n825            10  15000           [Веб-разработка, JavaScript, Интерфейсы]   \n174            18   5500  [Веб-разработка, JavaScript, Разработка игр, C...   \n226             8   3200               [Веб-разработка, TypeScript, Дизайн]   \n730             7    642                              [Веб-разработка, PHP]   \n247             6   2300  [Веб-разработка, JavaScript, IT-инфраструктура...   \n359             7   3500           [Веб-дизайн, Веб-разработка, JavaScript]   \n627             5   6300     [Веб-разработка, Проектирование и рефакторинг]   \n269             7   2100  [Блог компании Cloud.ru, Веб-разработка, Прогр...   \n591            14  17000  [Блог компании Издательский дом «Питер», Веб-р...   \n\n     votes  bookmarks  comments  \n986      3         20        15  \n825     20         20         6  \n174     11         60        12  \n226      5         42         4  \n730      1          6         0  \n247     11         44         2  \n359      5         18         1  \n627     11         49         5  \n269      3         12         3  \n591     17        111         5  ",
      "text/html": "<div>\n<style scoped>\n    .dataframe tbody tr th:only-of-type {\n        vertical-align: middle;\n    }\n\n    .dataframe tbody tr th {\n        vertical-align: top;\n    }\n\n    .dataframe thead th {\n        text-align: right;\n    }\n</style>\n<table border=\"1\" class=\"dataframe\">\n  <thead>\n    <tr style=\"text-align: right;\">\n      <th></th>\n      <th>id</th>\n      <th>author</th>\n      <th>published_datetime</th>\n      <th>title</th>\n      <th>url</th>\n      <th>complexity</th>\n      <th>reading_time</th>\n      <th>views</th>\n      <th>tags</th>\n      <th>votes</th>\n      <th>bookmarks</th>\n      <th>comments</th>\n    </tr>\n  </thead>\n  <tbody>\n    <tr>\n      <th>986</th>\n      <td>686748</td>\n      <td>fazdendev</td>\n      <td>2022-09-06 14:41:05+00:00</td>\n      <td>Добавление масштабирования страницы при ширине...</td>\n      <td>https://habr.com/ru/articles/686748/</td>\n      <td>NaN</td>\n      <td>5</td>\n      <td>8200</td>\n      <td>[Веб-разработка, CSS, HTML]</td>\n      <td>3</td>\n      <td>20</td>\n      <td>15</td>\n    </tr>\n    <tr>\n      <th>825</th>\n      <td>708850</td>\n      <td>Lavitard</td>\n      <td>2023-01-01 20:48:38+00:00</td>\n      <td>Удобный прогноз северного сияния: в цветах и г...</td>\n      <td>https://habr.com/ru/articles/708850/</td>\n      <td>NaN</td>\n      <td>10</td>\n      <td>15000</td>\n      <td>[Веб-разработка, JavaScript, Интерфейсы]</td>\n      <td>20</td>\n      <td>20</td>\n      <td>6</td>\n    </tr>\n    <tr>\n      <th>174</th>\n      <td>769150</td>\n      <td>Green21</td>\n      <td>2024-01-11 08:57:39+00:00</td>\n      <td>Пишем 2D игру на JavaScript и Canvas. Часть 2....</td>\n      <td>https://habr.com/ru/articles/769150/</td>\n      <td>Простой</td>\n      <td>18</td>\n      <td>5500</td>\n      <td>[Веб-разработка, JavaScript, Разработка игр, C...</td>\n      <td>11</td>\n      <td>60</td>\n      <td>12</td>\n    </tr>\n    <tr>\n      <th>226</th>\n      <td>779492</td>\n      <td>cherkalexander</td>\n      <td>2023-12-12 08:57:17+00:00</td>\n      <td>Как автоматизировать использование дизайн токе...</td>\n      <td>https://habr.com/ru/articles/779492/</td>\n      <td>Простой</td>\n      <td>8</td>\n      <td>3200</td>\n      <td>[Веб-разработка, TypeScript, Дизайн]</td>\n      <td>5</td>\n      <td>42</td>\n      <td>4</td>\n    </tr>\n    <tr>\n      <th>730</th>\n      <td>720528</td>\n      <td>shasoftX</td>\n      <td>2023-03-06 05:15:39+00:00</td>\n      <td>Samoyed CMG — пользовательские генераторы кодо...</td>\n      <td>https://habr.com/ru/articles/720528/</td>\n      <td>Простой</td>\n      <td>7</td>\n      <td>642</td>\n      <td>[Веб-разработка, PHP]</td>\n      <td>1</td>\n      <td>6</td>\n      <td>0</td>\n    </tr>\n    <tr>\n      <th>247</th>\n      <td>778316</td>\n      <td>VeXell</td>\n      <td>2023-12-04 12:33:09+00:00</td>\n      <td>Улучшаем возможности PM2 с помощью дополнитель...</td>\n      <td>https://habr.com/ru/articles/778316/</td>\n      <td>Простой</td>\n      <td>6</td>\n      <td>2300</td>\n      <td>[Веб-разработка, JavaScript, IT-инфраструктура...</td>\n      <td>11</td>\n      <td>44</td>\n      <td>2</td>\n    </tr>\n    <tr>\n      <th>359</th>\n      <td>764888</td>\n      <td>xtremespb</td>\n      <td>2023-10-05 10:20:51+00:00</td>\n      <td>Heretic: full stack фреймворк на основе Marko.js</td>\n      <td>https://habr.com/ru/articles/764888/</td>\n      <td>Средний</td>\n      <td>7</td>\n      <td>3500</td>\n      <td>[Веб-дизайн, Веб-разработка, JavaScript]</td>\n      <td>5</td>\n      <td>18</td>\n      <td>1</td>\n    </tr>\n    <tr>\n      <th>627</th>\n      <td>733302</td>\n      <td>mixkorshun</td>\n      <td>2023-05-10 14:23:56+00:00</td>\n      <td>7 ошибок глобального рефакторинга и как их изб...</td>\n      <td>https://habr.com/ru/articles/733302/</td>\n      <td>NaN</td>\n      <td>5</td>\n      <td>6300</td>\n      <td>[Веб-разработка, Проектирование и рефакторинг]</td>\n      <td>11</td>\n      <td>49</td>\n      <td>5</td>\n    </tr>\n    <tr>\n      <th>269</th>\n      <td>772500</td>\n      <td>Konstantin_Loginovskikh</td>\n      <td>2023-11-22 11:56:03+00:00</td>\n      <td>Frontend Talks: как упростить создание контекс...</td>\n      <td>https://habr.com/ru/companies/cloud_ru/article...</td>\n      <td>NaN</td>\n      <td>7</td>\n      <td>2100</td>\n      <td>[Блог компании Cloud.ru, Веб-разработка, Прогр...</td>\n      <td>3</td>\n      <td>12</td>\n      <td>3</td>\n    </tr>\n    <tr>\n      <th>591</th>\n      <td>737856</td>\n      <td>ph_piter</td>\n      <td>2023-05-31 14:16:33+00:00</td>\n      <td>Книга «JavaScript с нуля до профи»</td>\n      <td>https://habr.com/ru/companies/piter/articles/7...</td>\n      <td>NaN</td>\n      <td>14</td>\n      <td>17000</td>\n      <td>[Блог компании Издательский дом «Питер», Веб-р...</td>\n      <td>17</td>\n      <td>111</td>\n      <td>5</td>\n    </tr>\n  </tbody>\n</table>\n</div>"
     },
     "execution_count": 9,
     "metadata": {},
     "output_type": "execute_result"
    }
   ],
   "source": [
    "articles.sample(10)"
   ],
   "metadata": {
    "collapsed": false,
    "ExecuteTime": {
     "end_time": "2024-03-16T09:29:59.104592Z",
     "start_time": "2024-03-16T09:29:59.092552Z"
    }
   },
   "id": "44c732d6cba307a0"
  },
  {
   "cell_type": "code",
   "execution_count": 10,
   "outputs": [
    {
     "name": "stdout",
     "output_type": "stream",
     "text": [
      "Количество статей: 999\n",
      "Количество комментариев: 18750\n",
      "\n",
      "Количество уникальных авторов постов: 571\n",
      "Количество уникальных комментаторов: 5238\n",
      "\n",
      "Период времени сбора информации: 2022-08-31 по 2024-03-16\n"
     ]
    }
   ],
   "source": [
    "print(\n",
    "    f\"Количество статей: {articles.shape[0]}\",\n",
    "    f\"Количество комментариев: {comments.shape[0]}\",\n",
    "    '\\n'\n",
    "    f\"Количество уникальных авторов постов: {articles['author'].nunique()}\",\n",
    "    f\"Количество уникальных комментаторов: {comments['author'].nunique()}\",\n",
    "    '\\n'\n",
    "    f\"Период времени сбора информации: {comments['published_datetime'].min().strftime('%Y-%m-%d')} по {comments['published_datetime'].max().strftime('%Y-%m-%d')}\",\n",
    "    sep='\\n'\n",
    ")\n"
   ],
   "metadata": {
    "collapsed": false,
    "ExecuteTime": {
     "end_time": "2024-03-16T09:29:59.112995Z",
     "start_time": "2024-03-16T09:29:59.106590Z"
    }
   },
   "id": "9815cd420f2c6d35"
  },
  {
   "cell_type": "code",
   "execution_count": 11,
   "outputs": [],
   "source": [
    "def clean(text: str) -> str:\n",
    "    text = re.sub(\n",
    "        r'https?:\\/\\/(www\\.)?[-a-zA-Z0-9@:%._\\+~#=]{1,256}\\.[a-zA-Z0-9()]{1,6}\\b([-a-zA-Z0-9()@:%_\\+.~#?&//=]*)', ' ',\n",
    "        text)\n",
    "    text = re.sub(r'\\b\\d+\\-\\w+\\b', ' ', text)\n",
    "    text = re.sub(r'\\\\[nt]', ' ', text)\n",
    "    text = re.sub(r'[^\\w\\s]', ' ', text)\n",
    "    text = re.sub(r'_', ' ', text)\n",
    "    text = re.sub(r'\\b\\d+\\b', ' ', text)\n",
    "    text = re.sub(r'\\s+', ' ', text)\n",
    "    return text.strip()\n",
    "\n",
    "\n",
    "def tokenize(text):\n",
    "    return word_tokenize(text, language=\"russian\")\n",
    "\n",
    "\n",
    "stop_words = set()\n",
    "stop_words |= set(stopwords.words('russian'))  # default corpus\n",
    "stop_words |= set(json.load(open('stopwords-ru.json', encoding='utf-8')))\n",
    "stop_words |= set(chr(i) for i in range(ord('а'), ord('а') + 32))  # ru letters\n",
    "stop_words |= set(chr(i) for i in range(ord('a'), ord('a') + 26))  # en letters\n",
    "stop_words |= set(str(i) for i in range(10))  # digits\n",
    "stop_words |= {'net', 'ru', 'com', 'org'}  # domens\n",
    "\n",
    "\n",
    "def purge(tokens: list[str]) -> list[str]:\n",
    "    return [t for t in tokens if t not in stop_words]\n",
    "\n",
    "\n",
    "def lemmatizer():\n",
    "    morphy_lemmatizer = pymorphy2.MorphAnalyzer().parse\n",
    "    nltk_lemmatizer = WordNetLemmatizer().lemmatize\n",
    "\n",
    "    def wrapper(tokens: list[str]) -> list[str]:\n",
    "        return [morphy_lemmatizer(nltk_lemmatizer(token))[0].normal_form for token in tokens]\n",
    "\n",
    "    return wrapper\n"
   ],
   "metadata": {
    "collapsed": false,
    "ExecuteTime": {
     "end_time": "2024-03-16T09:29:59.122760Z",
     "start_time": "2024-03-16T09:29:59.113995Z"
    }
   },
   "id": "61b974ef654b19e4"
  },
  {
   "cell_type": "code",
   "execution_count": 12,
   "outputs": [],
   "source": [
    "comments['tokens'] = comments['text'].astype(str)"
   ],
   "metadata": {
    "collapsed": false,
    "ExecuteTime": {
     "end_time": "2024-03-16T09:29:59.129568Z",
     "start_time": "2024-03-16T09:29:59.123760Z"
    }
   },
   "id": "6ecd079c7751d47d"
  },
  {
   "cell_type": "code",
   "outputs": [
    {
     "data": {
      "text/plain": "lower:   0%|          | 0/18750 [00:00<?, ?it/s]",
      "application/vnd.jupyter.widget-view+json": {
       "version_major": 2,
       "version_minor": 0,
       "model_id": "1ee9fd041e434d168b78b3cc58ed4677"
      }
     },
     "metadata": {},
     "output_type": "display_data"
    }
   ],
   "source": [
    "tqdm.pandas(desc='lower')\n",
    "comments['tokens'] = comments['tokens'].progress_apply(str.lower)"
   ],
   "metadata": {
    "collapsed": false,
    "ExecuteTime": {
     "end_time": "2024-03-16T09:29:59.206453Z",
     "start_time": "2024-03-16T09:29:59.130569Z"
    }
   },
   "id": "aaee5bfb8875398b",
   "execution_count": 13
  },
  {
   "cell_type": "code",
   "outputs": [
    {
     "data": {
      "text/plain": "clean:   0%|          | 0/18750 [00:00<?, ?it/s]",
      "application/vnd.jupyter.widget-view+json": {
       "version_major": 2,
       "version_minor": 0,
       "model_id": "9fb4bb5054894e4aabb1ce17bf076c6c"
      }
     },
     "metadata": {},
     "output_type": "display_data"
    }
   ],
   "source": [
    "tqdm.pandas(desc='clean')\n",
    "comments['tokens'] = comments['tokens'].progress_apply(clean)\n"
   ],
   "metadata": {
    "collapsed": false,
    "ExecuteTime": {
     "end_time": "2024-03-16T09:30:01.573655Z",
     "start_time": "2024-03-16T09:29:59.207454Z"
    }
   },
   "id": "a0cfc82c730d167b",
   "execution_count": 14
  },
  {
   "cell_type": "code",
   "outputs": [
    {
     "data": {
      "text/plain": "tokenize:   0%|          | 0/18750 [00:00<?, ?it/s]",
      "application/vnd.jupyter.widget-view+json": {
       "version_major": 2,
       "version_minor": 0,
       "model_id": "e3c167676e6447dcba678c879a85013d"
      }
     },
     "metadata": {},
     "output_type": "display_data"
    }
   ],
   "source": [
    "tqdm.pandas(desc='tokenize')\n",
    "comments['tokens'] = comments['tokens'].progress_apply(tokenize)"
   ],
   "metadata": {
    "collapsed": false,
    "ExecuteTime": {
     "end_time": "2024-03-16T09:30:07.660648Z",
     "start_time": "2024-03-16T09:30:01.575652Z"
    }
   },
   "id": "1cf0ddf3a119cdeb",
   "execution_count": 15
  },
  {
   "cell_type": "code",
   "outputs": [
    {
     "data": {
      "text/plain": "lemmatize:   0%|          | 0/18750 [00:00<?, ?it/s]",
      "application/vnd.jupyter.widget-view+json": {
       "version_major": 2,
       "version_minor": 0,
       "model_id": "415689b51847452f9bc7a55ebfd7e264"
      }
     },
     "metadata": {},
     "output_type": "display_data"
    }
   ],
   "source": [
    "tqdm.pandas(desc='lemmatize')\n",
    "comments['tokens'] = comments['tokens'].progress_apply(lemmatizer())"
   ],
   "metadata": {
    "collapsed": false,
    "ExecuteTime": {
     "end_time": "2024-03-16T09:32:05.228383Z",
     "start_time": "2024-03-16T09:30:07.662643Z"
    }
   },
   "id": "ef1c6dc50302a72a",
   "execution_count": 16
  },
  {
   "cell_type": "code",
   "outputs": [
    {
     "data": {
      "text/plain": "purge:   0%|          | 0/18750 [00:00<?, ?it/s]",
      "application/vnd.jupyter.widget-view+json": {
       "version_major": 2,
       "version_minor": 0,
       "model_id": "fd8e58b323234f0483988295f3aeb416"
      }
     },
     "metadata": {},
     "output_type": "display_data"
    }
   ],
   "source": [
    "tqdm.pandas(desc='purge')\n",
    "comments['purged_tokens'] = comments['tokens'].progress_apply(purge)"
   ],
   "metadata": {
    "collapsed": false,
    "ExecuteTime": {
     "end_time": "2024-03-16T09:32:05.357306Z",
     "start_time": "2024-03-16T09:32:05.230393Z"
    }
   },
   "id": "23913a4e3f57d874",
   "execution_count": 17
  },
  {
   "cell_type": "code",
   "execution_count": 18,
   "outputs": [],
   "source": [
    "comments.to_pickle('data/processed_comments.pkl')\n",
    "articles.to_pickle('data/processed_articles.pkl')"
   ],
   "metadata": {
    "collapsed": false,
    "ExecuteTime": {
     "end_time": "2024-03-16T09:32:05.657847Z",
     "start_time": "2024-03-16T09:32:05.358305Z"
    }
   },
   "id": "dc473a6f67e44a3c"
  },
  {
   "cell_type": "code",
   "outputs": [
    {
     "name": "stdout",
     "output_type": "stream",
     "text": [
      "А как он, с точки зрения банальной физики, может не лагать при клике на что-либо новое? Так или иначе нужно отправлять запрос, ждать ответ, парсить новый жс… А если prefetching — то в чем преимущество перед тем, чтобы загрузить все одним блоком и забыть?\n",
      "----------------------------------------\n",
      "а как он с точка зрение банальный физика мочь не лагать при клик на что либо новый так или иначе нужно отправлять запрос ждать ответ парсить новый жс а если prefetching то в чем преимущество перед тем чтобы загрузить всё один блок и забыть\n",
      "----------------------------------------\n",
      "точка зрение банальный физика лагать клик либо иначе отправлять запрос ответ парсить жс prefetching преимущество загрузить блок забыть\n"
     ]
    }
   ],
   "source": [
    "text, tokens, purged_tokens = comments.sample(1)[['text', 'tokens', 'purged_tokens']].iloc[0]\n",
    "\n",
    "print(text)\n",
    "print('-' * 40)\n",
    "print(' '.join(tokens))\n",
    "print('-' * 40)\n",
    "print(' '.join(purged_tokens))"
   ],
   "metadata": {
    "collapsed": false,
    "ExecuteTime": {
     "end_time": "2024-03-16T09:48:30.128485Z",
     "start_time": "2024-03-16T09:48:30.123247Z"
    }
   },
   "id": "788390b9d3ed8b11",
   "execution_count": 31
  }
 ],
 "metadata": {
  "kernelspec": {
   "display_name": "Python 3",
   "language": "python",
   "name": "python3"
  },
  "language_info": {
   "codemirror_mode": {
    "name": "ipython",
    "version": 2
   },
   "file_extension": ".py",
   "mimetype": "text/x-python",
   "name": "python",
   "nbconvert_exporter": "python",
   "pygments_lexer": "ipython2",
   "version": "2.7.6"
  }
 },
 "nbformat": 4,
 "nbformat_minor": 5
}
