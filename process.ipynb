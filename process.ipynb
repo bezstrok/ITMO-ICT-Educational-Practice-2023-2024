{
 "cells": [
  {
   "cell_type": "code",
   "execution_count": 1,
   "id": "initial_id",
   "metadata": {
    "collapsed": true,
    "ExecuteTime": {
     "end_time": "2024-03-01T10:58:08.930967800Z",
     "start_time": "2024-03-01T10:58:02.779378800Z"
    }
   },
   "outputs": [],
   "source": [
    "import ast\n",
    "import json\n",
    "import re\n",
    "\n",
    "import pandas as pd\n",
    "import pymorphy2\n",
    "import torch\n",
    "from nltk import WordNetLemmatizer\n",
    "from nltk.corpus import stopwords\n",
    "from nltk.tokenize import word_tokenize\n",
    "from transformers import AutoModelForSequenceClassification\n",
    "from transformers import BertTokenizerFast\n",
    "\n",
    "from tqdm.notebook import tqdm"
   ]
  },
  {
   "cell_type": "code",
   "execution_count": 2,
   "outputs": [],
   "source": [
    "import warnings\n",
    "\n",
    "warnings.filterwarnings('ignore')"
   ],
   "metadata": {
    "collapsed": false,
    "ExecuteTime": {
     "end_time": "2024-03-01T10:58:08.952570300Z",
     "start_time": "2024-03-01T10:58:08.934421400Z"
    }
   },
   "id": "3e48201a8dec63c2"
  },
  {
   "cell_type": "code",
   "execution_count": 3,
   "outputs": [],
   "source": [
    "def pymorphy2_311_hotfix():\n",
    "    from inspect import getfullargspec\n",
    "    from pymorphy2.units.base import BaseAnalyzerUnit\n",
    "    \n",
    "    def _get_param_names_311(klass):\n",
    "        if klass.__init__ is object.__init__:\n",
    "            return []\n",
    "        args = getfullargspec(klass.__init__).args\n",
    "        return sorted(args[1:])\n",
    "    \n",
    "    setattr(BaseAnalyzerUnit, '_get_param_names', _get_param_names_311)\n",
    "\n",
    "\n",
    "pymorphy2_311_hotfix()"
   ],
   "metadata": {
    "collapsed": false,
    "ExecuteTime": {
     "end_time": "2024-03-01T10:58:08.968528500Z",
     "start_time": "2024-03-01T10:58:08.937922200Z"
    }
   },
   "id": "6b065dbf6083a6ec"
  },
  {
   "cell_type": "code",
   "execution_count": 4,
   "outputs": [],
   "source": [
    "articles = pd.read_csv('dataframes/articles.csv')\n",
    "comments = pd.read_csv('dataframes/comments.csv')"
   ],
   "metadata": {
    "collapsed": false,
    "ExecuteTime": {
     "end_time": "2024-03-01T10:58:09.214338Z",
     "start_time": "2024-03-01T10:58:08.952570300Z"
    }
   },
   "id": "518c0d9a637635bd"
  },
  {
   "cell_type": "code",
   "execution_count": 5,
   "outputs": [
    {
     "data": {
      "text/plain": "article_id                          int64\nauthor                             object\npublished_datetime    datetime64[ns, UTC]\ntext                               object\nvotes                               int64\ndtype: object"
     },
     "execution_count": 5,
     "metadata": {},
     "output_type": "execute_result"
    }
   ],
   "source": [
    "comments['published_datetime'] = pd.to_datetime(comments['published_datetime'])\n",
    "\n",
    "comments.dtypes"
   ],
   "metadata": {
    "collapsed": false,
    "ExecuteTime": {
     "end_time": "2024-03-01T10:58:09.264294600Z",
     "start_time": "2024-03-01T10:58:09.218326800Z"
    }
   },
   "id": "a7d71db604d03a02"
  },
  {
   "cell_type": "code",
   "execution_count": 6,
   "outputs": [
    {
     "data": {
      "text/plain": "       article_id          author        published_datetime  \\\n3864       778036  RostislavDugin 2023-12-02 12:35:44+00:00   \n14776      709494         sshemol 2023-01-08 19:44:19+00:00   \n2597       780852      neverblued 2023-12-25 05:35:35+00:00   \n3957       777704       liontalks 2023-12-02 09:12:51+00:00   \n10848      737694       Superclip 2023-05-30 13:30:05+00:00   \n8855       750586           vvbob 2023-07-27 06:07:54+00:00   \n1454       787606         Finesse 2024-01-21 02:49:31+00:00   \n3755       777420     13werwolf13 2023-12-06 17:52:55+00:00   \n16380      701444       sunnybear 2022-11-24 19:54:35+00:00   \n2654       782346        ionicman 2023-12-21 21:39:50+00:00   \n\n                                                    text  votes  \n3864   \"но гениальность идеи и гениальность программи...      0  \n14776  То есть только если сам нажмешь кнопку \"скопир...      5  \n2597   Любопытно, если автору так уж не нравятся техн...      0  \n3957   Подход классический, за исключеним того, что м...      0  \n10848  Но, во-первых, так ли часто такая уверенность ...      0  \n8855   Если говорить серьезно, выбор  необходимого дл...      6  \n1454   Это какая должна быть память у разработчика, ч...      1  \n3755   \"Глупый юзер\" - это вовсе не обязательно глупы...      1  \n16380    Локальный DNS кэш 15 минут? Нет, не слышали (c)      1  \n2654   И он абсолютно прав - если проблему можно реши...      0  ",
      "text/html": "<div>\n<style scoped>\n    .dataframe tbody tr th:only-of-type {\n        vertical-align: middle;\n    }\n\n    .dataframe tbody tr th {\n        vertical-align: top;\n    }\n\n    .dataframe thead th {\n        text-align: right;\n    }\n</style>\n<table border=\"1\" class=\"dataframe\">\n  <thead>\n    <tr style=\"text-align: right;\">\n      <th></th>\n      <th>article_id</th>\n      <th>author</th>\n      <th>published_datetime</th>\n      <th>text</th>\n      <th>votes</th>\n    </tr>\n  </thead>\n  <tbody>\n    <tr>\n      <th>3864</th>\n      <td>778036</td>\n      <td>RostislavDugin</td>\n      <td>2023-12-02 12:35:44+00:00</td>\n      <td>\"но гениальность идеи и гениальность программи...</td>\n      <td>0</td>\n    </tr>\n    <tr>\n      <th>14776</th>\n      <td>709494</td>\n      <td>sshemol</td>\n      <td>2023-01-08 19:44:19+00:00</td>\n      <td>То есть только если сам нажмешь кнопку \"скопир...</td>\n      <td>5</td>\n    </tr>\n    <tr>\n      <th>2597</th>\n      <td>780852</td>\n      <td>neverblued</td>\n      <td>2023-12-25 05:35:35+00:00</td>\n      <td>Любопытно, если автору так уж не нравятся техн...</td>\n      <td>0</td>\n    </tr>\n    <tr>\n      <th>3957</th>\n      <td>777704</td>\n      <td>liontalks</td>\n      <td>2023-12-02 09:12:51+00:00</td>\n      <td>Подход классический, за исключеним того, что м...</td>\n      <td>0</td>\n    </tr>\n    <tr>\n      <th>10848</th>\n      <td>737694</td>\n      <td>Superclip</td>\n      <td>2023-05-30 13:30:05+00:00</td>\n      <td>Но, во-первых, так ли часто такая уверенность ...</td>\n      <td>0</td>\n    </tr>\n    <tr>\n      <th>8855</th>\n      <td>750586</td>\n      <td>vvbob</td>\n      <td>2023-07-27 06:07:54+00:00</td>\n      <td>Если говорить серьезно, выбор  необходимого дл...</td>\n      <td>6</td>\n    </tr>\n    <tr>\n      <th>1454</th>\n      <td>787606</td>\n      <td>Finesse</td>\n      <td>2024-01-21 02:49:31+00:00</td>\n      <td>Это какая должна быть память у разработчика, ч...</td>\n      <td>1</td>\n    </tr>\n    <tr>\n      <th>3755</th>\n      <td>777420</td>\n      <td>13werwolf13</td>\n      <td>2023-12-06 17:52:55+00:00</td>\n      <td>\"Глупый юзер\" - это вовсе не обязательно глупы...</td>\n      <td>1</td>\n    </tr>\n    <tr>\n      <th>16380</th>\n      <td>701444</td>\n      <td>sunnybear</td>\n      <td>2022-11-24 19:54:35+00:00</td>\n      <td>Локальный DNS кэш 15 минут? Нет, не слышали (c)</td>\n      <td>1</td>\n    </tr>\n    <tr>\n      <th>2654</th>\n      <td>782346</td>\n      <td>ionicman</td>\n      <td>2023-12-21 21:39:50+00:00</td>\n      <td>И он абсолютно прав - если проблему можно реши...</td>\n      <td>0</td>\n    </tr>\n  </tbody>\n</table>\n</div>"
     },
     "execution_count": 6,
     "metadata": {},
     "output_type": "execute_result"
    }
   ],
   "source": [
    "comments.sample(10)"
   ],
   "metadata": {
    "collapsed": false,
    "ExecuteTime": {
     "end_time": "2024-03-01T10:58:09.279672500Z",
     "start_time": "2024-03-01T10:58:09.264294600Z"
    }
   },
   "id": "53affe72d12bd719"
  },
  {
   "cell_type": "code",
   "execution_count": 7,
   "outputs": [
    {
     "data": {
      "text/plain": "id                                  int64\nauthor                             object\npublished_datetime    datetime64[ns, UTC]\ntitle                              object\nurl                                object\ncomplexity                         object\nreading_time                        int64\nviews                               int64\ntags                               object\nvotes                               int64\nbookmarks                           int64\ncomments                            int64\ndtype: object"
     },
     "execution_count": 7,
     "metadata": {},
     "output_type": "execute_result"
    }
   ],
   "source": [
    "articles['published_datetime'] = pd.to_datetime(articles['published_datetime'])\n",
    "articles['tags'] = articles['tags'].astype(str).apply(ast.literal_eval)\n",
    "\n",
    "articles.dtypes"
   ],
   "metadata": {
    "collapsed": false,
    "ExecuteTime": {
     "end_time": "2024-03-01T10:58:09.341348800Z",
     "start_time": "2024-03-01T10:58:09.280668400Z"
    }
   },
   "id": "e609709a229f4cc6"
  },
  {
   "cell_type": "code",
   "execution_count": 8,
   "outputs": [
    {
     "data": {
      "text/plain": "         id            author        published_datetime  \\\n334  764800          dglazkov 2023-10-02 10:54:47+00:00   \n543  740416  Yauheni_Malashuk 2023-06-07 10:38:27+00:00   \n778  710202            aio350 2023-01-12 08:01:02+00:00   \n117  787606          hl0rrrka 2024-01-19 12:30:20+00:00   \n514  744964              SSul 2023-06-30 08:13:51+00:00   \n119  787176           Start_X 2024-01-18 08:42:57+00:00   \n942  688330           MansikM 2022-09-15 06:00:02+00:00   \n715  718492            gabenD 2023-02-22 09:09:07+00:00   \n648  724914        OlegSpectr 2023-03-28 09:23:57+00:00   \n871  692218          Yoskutik 2022-11-09 08:02:55+00:00   \n\n                                                 title  \\\n334               React Fiber & Concurrency Part 2 (2)   \n543                        Atomic Design в веб-дизайне   \n778  Краткий обзор Bun — новой среды выполнения Jav...   \n117                        Почему не любят JavaScript?   \n514  Приручаем Liquibase. Как скормить базе данных ...   \n119  Неочевидные угрозы: как защититься от атак на ...   \n942  Как мы решаем проблемы со склонением слов для ...   \n715  Зачем кодить, если можно не кодить? Часть 2: G...   \n648  Внедряем DevSecOps в процесс разработки. Часть...   \n871  MobX с MVVM упрощает жизнь Frontend разработчи...   \n\n                                                   url complexity  \\\n334               https://habr.com/ru/articles/764800/    Простой   \n543               https://habr.com/ru/articles/740416/    Средний   \n778  https://habr.com/ru/companies/timeweb/articles...        NaN   \n117               https://habr.com/ru/articles/787606/    Простой   \n514  https://habr.com/ru/companies/simbirsoft/artic...    Средний   \n119  https://habr.com/ru/companies/StartX/articles/...        NaN   \n942  https://habr.com/ru/companies/rshb/articles/68...        NaN   \n715  https://habr.com/ru/companies/tochka/articles/...    Простой   \n648  https://habr.com/ru/companies/spectr/articles/...    Средний   \n871               https://habr.com/ru/articles/692218/        NaN   \n\n     reading_time  views                                               tags  \\\n334             8   3600              [Веб-разработка, JavaScript, ReactJS]   \n543            10   7200               [Веб-дизайн, Веб-разработка, Дизайн]   \n778             8  12000  [Блог компании Timeweb Cloud, Веб-разработка, ...   \n117             5  22000                       [Веб-разработка, JavaScript]   \n514             8   4800  [Блог компании SimbirSoft, Веб-разработка, Про...   \n119            10   3300  [Блог компании Start X (EX Антифишинг), Информ...   \n942             9   6600  [Блог компании РСХБ.цифра (Россельхозбанк), Ве...   \n715             7   4100  [Блог компании Точка, Ненормальное программиро...   \n648             9   5500  [Блог компании Spectr, Информационная безопасн...   \n871            16  15000  [Веб-разработка, JavaScript, ReactJS, TypeScript]   \n\n     votes  bookmarks  comments  \n334      3         30         0  \n543      3         61         0  \n778     22         46         6  \n117     16         73       171  \n514      4         22         9  \n119      6         36        10  \n942     21         59         6  \n715      2         36         0  \n648      2         50         2  \n871      8         69        52  ",
      "text/html": "<div>\n<style scoped>\n    .dataframe tbody tr th:only-of-type {\n        vertical-align: middle;\n    }\n\n    .dataframe tbody tr th {\n        vertical-align: top;\n    }\n\n    .dataframe thead th {\n        text-align: right;\n    }\n</style>\n<table border=\"1\" class=\"dataframe\">\n  <thead>\n    <tr style=\"text-align: right;\">\n      <th></th>\n      <th>id</th>\n      <th>author</th>\n      <th>published_datetime</th>\n      <th>title</th>\n      <th>url</th>\n      <th>complexity</th>\n      <th>reading_time</th>\n      <th>views</th>\n      <th>tags</th>\n      <th>votes</th>\n      <th>bookmarks</th>\n      <th>comments</th>\n    </tr>\n  </thead>\n  <tbody>\n    <tr>\n      <th>334</th>\n      <td>764800</td>\n      <td>dglazkov</td>\n      <td>2023-10-02 10:54:47+00:00</td>\n      <td>React Fiber &amp; Concurrency Part 2 (2)</td>\n      <td>https://habr.com/ru/articles/764800/</td>\n      <td>Простой</td>\n      <td>8</td>\n      <td>3600</td>\n      <td>[Веб-разработка, JavaScript, ReactJS]</td>\n      <td>3</td>\n      <td>30</td>\n      <td>0</td>\n    </tr>\n    <tr>\n      <th>543</th>\n      <td>740416</td>\n      <td>Yauheni_Malashuk</td>\n      <td>2023-06-07 10:38:27+00:00</td>\n      <td>Atomic Design в веб-дизайне</td>\n      <td>https://habr.com/ru/articles/740416/</td>\n      <td>Средний</td>\n      <td>10</td>\n      <td>7200</td>\n      <td>[Веб-дизайн, Веб-разработка, Дизайн]</td>\n      <td>3</td>\n      <td>61</td>\n      <td>0</td>\n    </tr>\n    <tr>\n      <th>778</th>\n      <td>710202</td>\n      <td>aio350</td>\n      <td>2023-01-12 08:01:02+00:00</td>\n      <td>Краткий обзор Bun — новой среды выполнения Jav...</td>\n      <td>https://habr.com/ru/companies/timeweb/articles...</td>\n      <td>NaN</td>\n      <td>8</td>\n      <td>12000</td>\n      <td>[Блог компании Timeweb Cloud, Веб-разработка, ...</td>\n      <td>22</td>\n      <td>46</td>\n      <td>6</td>\n    </tr>\n    <tr>\n      <th>117</th>\n      <td>787606</td>\n      <td>hl0rrrka</td>\n      <td>2024-01-19 12:30:20+00:00</td>\n      <td>Почему не любят JavaScript?</td>\n      <td>https://habr.com/ru/articles/787606/</td>\n      <td>Простой</td>\n      <td>5</td>\n      <td>22000</td>\n      <td>[Веб-разработка, JavaScript]</td>\n      <td>16</td>\n      <td>73</td>\n      <td>171</td>\n    </tr>\n    <tr>\n      <th>514</th>\n      <td>744964</td>\n      <td>SSul</td>\n      <td>2023-06-30 08:13:51+00:00</td>\n      <td>Приручаем Liquibase. Как скормить базе данных ...</td>\n      <td>https://habr.com/ru/companies/simbirsoft/artic...</td>\n      <td>Средний</td>\n      <td>8</td>\n      <td>4800</td>\n      <td>[Блог компании SimbirSoft, Веб-разработка, Про...</td>\n      <td>4</td>\n      <td>22</td>\n      <td>9</td>\n    </tr>\n    <tr>\n      <th>119</th>\n      <td>787176</td>\n      <td>Start_X</td>\n      <td>2024-01-18 08:42:57+00:00</td>\n      <td>Неочевидные угрозы: как защититься от атак на ...</td>\n      <td>https://habr.com/ru/companies/StartX/articles/...</td>\n      <td>NaN</td>\n      <td>10</td>\n      <td>3300</td>\n      <td>[Блог компании Start X (EX Антифишинг), Информ...</td>\n      <td>6</td>\n      <td>36</td>\n      <td>10</td>\n    </tr>\n    <tr>\n      <th>942</th>\n      <td>688330</td>\n      <td>MansikM</td>\n      <td>2022-09-15 06:00:02+00:00</td>\n      <td>Как мы решаем проблемы со склонением слов для ...</td>\n      <td>https://habr.com/ru/companies/rshb/articles/68...</td>\n      <td>NaN</td>\n      <td>9</td>\n      <td>6600</td>\n      <td>[Блог компании РСХБ.цифра (Россельхозбанк), Ве...</td>\n      <td>21</td>\n      <td>59</td>\n      <td>6</td>\n    </tr>\n    <tr>\n      <th>715</th>\n      <td>718492</td>\n      <td>gabenD</td>\n      <td>2023-02-22 09:09:07+00:00</td>\n      <td>Зачем кодить, если можно не кодить? Часть 2: G...</td>\n      <td>https://habr.com/ru/companies/tochka/articles/...</td>\n      <td>Простой</td>\n      <td>7</td>\n      <td>4100</td>\n      <td>[Блог компании Точка, Ненормальное программиро...</td>\n      <td>2</td>\n      <td>36</td>\n      <td>0</td>\n    </tr>\n    <tr>\n      <th>648</th>\n      <td>724914</td>\n      <td>OlegSpectr</td>\n      <td>2023-03-28 09:23:57+00:00</td>\n      <td>Внедряем DevSecOps в процесс разработки. Часть...</td>\n      <td>https://habr.com/ru/companies/spectr/articles/...</td>\n      <td>Средний</td>\n      <td>9</td>\n      <td>5500</td>\n      <td>[Блог компании Spectr, Информационная безопасн...</td>\n      <td>2</td>\n      <td>50</td>\n      <td>2</td>\n    </tr>\n    <tr>\n      <th>871</th>\n      <td>692218</td>\n      <td>Yoskutik</td>\n      <td>2022-11-09 08:02:55+00:00</td>\n      <td>MobX с MVVM упрощает жизнь Frontend разработчи...</td>\n      <td>https://habr.com/ru/articles/692218/</td>\n      <td>NaN</td>\n      <td>16</td>\n      <td>15000</td>\n      <td>[Веб-разработка, JavaScript, ReactJS, TypeScript]</td>\n      <td>8</td>\n      <td>69</td>\n      <td>52</td>\n    </tr>\n  </tbody>\n</table>\n</div>"
     },
     "execution_count": 8,
     "metadata": {},
     "output_type": "execute_result"
    }
   ],
   "source": [
    "articles.sample(10)"
   ],
   "metadata": {
    "collapsed": false,
    "ExecuteTime": {
     "end_time": "2024-03-01T10:58:09.378117Z",
     "start_time": "2024-03-01T10:58:09.310357300Z"
    }
   },
   "id": "44c732d6cba307a0"
  },
  {
   "cell_type": "code",
   "execution_count": 9,
   "outputs": [
    {
     "name": "stdout",
     "output_type": "stream",
     "text": [
      "Количество статей: 999\n",
      "Количество комментариев: 18431\n",
      "\n",
      "Количество уникальных авторов постов: 564\n",
      "Количество уникальных комментаторов: 5175\n",
      "\n",
      "Период времени сбора информации: 2022-08-02 по 2024-02-29\n"
     ]
    }
   ],
   "source": [
    "print(\n",
    "    f\"Количество статей: {articles.shape[0]}\",\n",
    "    f\"Количество комментариев: {comments.shape[0]}\",\n",
    "    '\\n'\n",
    "    f\"Количество уникальных авторов постов: {articles['author'].nunique()}\",\n",
    "    f\"Количество уникальных комментаторов: {comments['author'].nunique()}\",\n",
    "    '\\n'\n",
    "    f\"Период времени сбора информации: {comments['published_datetime'].min().strftime('%Y-%m-%d')} по {comments['published_datetime'].max().strftime('%Y-%m-%d')}\",\n",
    "    sep='\\n'\n",
    ")\n"
   ],
   "metadata": {
    "collapsed": false,
    "ExecuteTime": {
     "end_time": "2024-03-01T10:58:09.438938900Z",
     "start_time": "2024-03-01T10:58:09.328553900Z"
    }
   },
   "id": "9815cd420f2c6d35"
  },
  {
   "cell_type": "code",
   "execution_count": 10,
   "outputs": [],
   "source": [
    "def clean(text: str) -> str:\n",
    "    text = re.sub(r'[^\\w\\s]', ' ', text)\n",
    "    text = re.sub(r'\\s+', ' ', text)\n",
    "    return text.strip()\n",
    "\n",
    "\n",
    "def tokenize(text):\n",
    "    return word_tokenize(text, language=\"russian\")\n",
    "\n",
    "\n",
    "stop_words = set()\n",
    "stop_words |= set(stopwords.words('russian'))  # default corpus\n",
    "stop_words |= set(json.load(open('stopwords-ru.json', encoding='utf-8')))  # additional corpus\n",
    "stop_words |= set(chr(i) for i in range(ord('а'), ord('а') + 32))  # ru letters\n",
    "stop_words |= set(chr(i) for i in range(ord('a'), ord('a') + 26))  # en letters\n",
    "\n",
    "\n",
    "def purge(tokens: list[str]) -> list[str]:\n",
    "    return [t for t in tokens if t not in stop_words]\n",
    "\n",
    "\n",
    "def lemmatizer():\n",
    "    morphy_lemmatizer = pymorphy2.MorphAnalyzer().parse\n",
    "    nltk_lemmatizer = WordNetLemmatizer().lemmatize\n",
    "    \n",
    "    def wrapper(tokens: list[str]) -> list[str]:\n",
    "        return [morphy_lemmatizer(nltk_lemmatizer(token))[0].normal_form for token in tokens]\n",
    "    \n",
    "    return wrapper\n"
   ],
   "metadata": {
    "collapsed": false,
    "ExecuteTime": {
     "end_time": "2024-03-01T10:58:09.441931200Z",
     "start_time": "2024-03-01T10:58:09.344338900Z"
    }
   },
   "id": "61b974ef654b19e4"
  },
  {
   "cell_type": "code",
   "execution_count": 11,
   "outputs": [
    {
     "data": {
      "text/plain": "lower:   0%|          | 0/18431 [00:00<?, ?it/s]",
      "application/vnd.jupyter.widget-view+json": {
       "version_major": 2,
       "version_minor": 0,
       "model_id": "fe7d2443f4774e9d8fa6e07825d9e618"
      }
     },
     "metadata": {},
     "output_type": "display_data"
    },
    {
     "data": {
      "text/plain": "clean:   0%|          | 0/18431 [00:00<?, ?it/s]",
      "application/vnd.jupyter.widget-view+json": {
       "version_major": 2,
       "version_minor": 0,
       "model_id": "551e8e6a0d3d40b8944ba3412a11f282"
      }
     },
     "metadata": {},
     "output_type": "display_data"
    },
    {
     "data": {
      "text/plain": "tokenize:   0%|          | 0/18431 [00:00<?, ?it/s]",
      "application/vnd.jupyter.widget-view+json": {
       "version_major": 2,
       "version_minor": 0,
       "model_id": "82cab2c81310497790a0a44c9bd3e1bb"
      }
     },
     "metadata": {},
     "output_type": "display_data"
    },
    {
     "data": {
      "text/plain": "lemmatize:   0%|          | 0/18431 [00:00<?, ?it/s]",
      "application/vnd.jupyter.widget-view+json": {
       "version_major": 2,
       "version_minor": 0,
       "model_id": "d8eac1a4ea6648c992c2ca70273832a7"
      }
     },
     "metadata": {},
     "output_type": "display_data"
    },
    {
     "data": {
      "text/plain": "purge:   0%|          | 0/18431 [00:00<?, ?it/s]",
      "application/vnd.jupyter.widget-view+json": {
       "version_major": 2,
       "version_minor": 0,
       "model_id": "16d2c3baa3a1415d9f5d330d89f8712d"
      }
     },
     "metadata": {},
     "output_type": "display_data"
    }
   ],
   "source": [
    "comments['tokens'] = comments['text'].astype(str)\n",
    "\n",
    "tqdm.pandas(desc='lower')\n",
    "comments['tokens'] = comments['tokens'].progress_apply(str.lower)\n",
    "\n",
    "tqdm.pandas(desc='clean')\n",
    "comments['tokens'] = comments['tokens'].progress_apply(clean)\n",
    "\n",
    "tqdm.pandas(desc='tokenize')\n",
    "comments['tokens'] = comments['tokens'].progress_apply(tokenize)\n",
    "\n",
    "tqdm.pandas(desc='lemmatize')\n",
    "comments['tokens'] = comments['tokens'].progress_apply(lemmatizer())\n",
    "\n",
    "tqdm.pandas(desc='purge')\n",
    "comments['tokens'] = comments['tokens'].progress_apply(purge)"
   ],
   "metadata": {
    "collapsed": false,
    "ExecuteTime": {
     "end_time": "2024-03-01T11:00:19.444940200Z",
     "start_time": "2024-03-01T10:58:09.375107900Z"
    }
   },
   "id": "6ecd079c7751d47d"
  },
  {
   "cell_type": "code",
   "execution_count": 16,
   "outputs": [],
   "source": [
    "comments.to_pickle('pro_comments.pkl')\n",
    "articles.to_pickle('pro_articles.pkl')"
   ],
   "metadata": {
    "collapsed": false,
    "ExecuteTime": {
     "end_time": "2024-03-01T11:01:44.408446100Z",
     "start_time": "2024-03-01T11:01:44.246593Z"
    }
   },
   "id": "dc473a6f67e44a3c"
  }
 ],
 "metadata": {
  "kernelspec": {
   "display_name": "Python 3",
   "language": "python",
   "name": "python3"
  },
  "language_info": {
   "codemirror_mode": {
    "name": "ipython",
    "version": 2
   },
   "file_extension": ".py",
   "mimetype": "text/x-python",
   "name": "python",
   "nbconvert_exporter": "python",
   "pygments_lexer": "ipython2",
   "version": "2.7.6"
  }
 },
 "nbformat": 4,
 "nbformat_minor": 5
}
