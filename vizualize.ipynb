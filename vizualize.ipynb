{
 "cells": [
  {
   "cell_type": "code",
   "execution_count": 1,
   "id": "initial_id",
   "metadata": {
    "collapsed": true,
    "ExecuteTime": {
     "end_time": "2024-03-16T14:14:02.197722Z",
     "start_time": "2024-03-16T14:14:01.130719Z"
    }
   },
   "outputs": [],
   "source": [
    "from pprint import pprint\n",
    "\n",
    "import gensim.corpora as corpora\n",
    "import nltk\n",
    "import pandas as pd\n",
    "\n",
    "import seaborn as sns\n",
    "import matplotlib.pyplot as plt\n",
    "\n",
    "import pyLDAvis.gensim_models\n",
    "from gensim.models import CoherenceModel, LdaMulticore\n",
    "from tqdm.notebook import tqdm"
   ]
  },
  {
   "cell_type": "code",
   "execution_count": 2,
   "outputs": [],
   "source": [
    "articles = pd.read_pickle('data/processed_articles.pkl')\n",
    "comments = pd.read_pickle('data/processed_comments.pkl')"
   ],
   "metadata": {
    "collapsed": false,
    "ExecuteTime": {
     "end_time": "2024-03-16T14:14:03.362513Z",
     "start_time": "2024-03-16T14:14:03.123815Z"
    }
   },
   "id": "9da34f3c2950124c"
  },
  {
   "cell_type": "code",
   "outputs": [],
   "source": [
    "sentiment_translation = {\n",
    "    'positive': 'положительный',\n",
    "    'negative': 'отрицательный',\n",
    "    'neutral': 'нейтральный'\n",
    "}\n",
    "\n",
    "emotion_translation = {\n",
    "    'admiration': 'восхищение',\n",
    "    'amusement': 'веселье',\n",
    "    'anger': 'злость',\n",
    "    'annoyance': 'раздражение',\n",
    "    'approval': 'одобрение',\n",
    "    'caring': 'забота',\n",
    "    'confusion': 'непонимание',\n",
    "    'curiosity': 'любопытство',\n",
    "    'desire': 'желание',\n",
    "    'disappointment': 'разочарование',\n",
    "    'disapproval': 'неодобрение',\n",
    "    'disgust': 'отвращение',\n",
    "    'embarrassment': 'смущение',\n",
    "    'excitement': 'возбуждение',\n",
    "    'fear': 'страх',\n",
    "    'gratitude': 'признательность',\n",
    "    'grief': 'горе',\n",
    "    'joy': 'радость',\n",
    "    'love': 'любовь',\n",
    "    'nervousness': 'нервозность',\n",
    "    'optimism': 'оптимизм',\n",
    "    'pride': 'гордость',\n",
    "    'realization': 'осознание',\n",
    "    'relief': 'облегчение',\n",
    "    'remorse': 'раскаяние',\n",
    "    'sadness': 'грусть',\n",
    "    'surprise': 'удивление',\n",
    "    'neutral': 'нейтральность',\n",
    "}\n",
    "\n",
    "\n",
    "comments['sentiment'] = comments['sentiment'].map(sentiment_translation)\n",
    "comments['emotion'] = comments['emotion'].map(emotion_translation)"
   ],
   "metadata": {
    "collapsed": false,
    "ExecuteTime": {
     "end_time": "2024-03-16T14:14:07.614735Z",
     "start_time": "2024-03-16T14:14:07.603604Z"
    }
   },
   "id": "21f48b85da7cbfa5",
   "execution_count": 3
  },
  {
   "cell_type": "code",
   "execution_count": 4,
   "outputs": [],
   "source": [
    "N = 30\n",
    "\n",
    "unigrams = [unigram for tokens in comments['purged_tokens'] for unigram in tokens]\n",
    "bigrams = [bigram for tokens in comments['purged_tokens'] for bigram in nltk.bigrams(tokens)]\n",
    "trigrams = [trigram for tokens in comments['purged_tokens'] for trigram in nltk.trigrams(tokens)]\n",
    "\n",
    "unigram_freq = nltk.FreqDist(unigrams)\n",
    "bigram_freq = nltk.FreqDist(bigrams)\n",
    "trigram_freq = nltk.FreqDist(trigrams)\n",
    "\n",
    "most_common_unigrams = unigram_freq.most_common(N)\n",
    "most_common_bigrams = bigram_freq.most_common(N)\n",
    "most_common_trigrams = trigram_freq.most_common(N)\n",
    "\n",
    "\n",
    "unigrams, unigrams_frequencies = map(list, zip(*most_common_unigrams))\n",
    "\n",
    "bigrams, bigrams_frequencies = map(list, zip(*most_common_bigrams))\n",
    "bigrams = list(' - '.join(i) for i in bigrams)\n",
    "\n",
    "trigrams, trigrams_frequencies = map(list, zip(*most_common_trigrams))\n",
    "trigrams = list(' - '.join(i) for i in trigrams)"
   ],
   "metadata": {
    "collapsed": false,
    "ExecuteTime": {
     "end_time": "2024-03-16T13:15:33.059811Z",
     "start_time": "2024-03-16T13:15:31.841655Z"
    }
   },
   "id": "29be9c5a8b7abb1d"
  },
  {
   "cell_type": "code",
   "outputs": [],
   "source": [
    "plt.figure(figsize=(12, 8))\n",
    "sns.barplot(x=unigrams_frequencies, y=unigrams, palette=\"Oranges_d\")\n",
    "plt.title(f'Топ-{N} униграмм')\n",
    "plt.xlabel('Частота')\n",
    "plt.ylabel('Униграммы')\n",
    "plt.tight_layout()\n",
    "plt.savefig('results/plots/unigrams.png')\n",
    "plt.close()"
   ],
   "metadata": {
    "collapsed": false,
    "ExecuteTime": {
     "end_time": "2024-03-16T13:15:34.481416Z",
     "start_time": "2024-03-16T13:15:34.060700Z"
    }
   },
   "id": "18af5e6f74a6e3a5",
   "execution_count": 5
  },
  {
   "cell_type": "code",
   "outputs": [],
   "source": [
    "plt.figure(figsize=(12, 8))\n",
    "sns.barplot(x=bigrams_frequencies, y=bigrams, palette=\"Blues_d\")\n",
    "plt.title(f'Топ-{N} биграмм')\n",
    "plt.xlabel('Частота')\n",
    "plt.ylabel('Биграммы')\n",
    "plt.tight_layout()\n",
    "plt.savefig('results/plots/bigrams.png')\n",
    "plt.close()"
   ],
   "metadata": {
    "collapsed": false,
    "ExecuteTime": {
     "end_time": "2024-03-16T13:15:34.815574Z",
     "start_time": "2024-03-16T13:15:34.482416Z"
    }
   },
   "id": "2338c6fa01360540",
   "execution_count": 6
  },
  {
   "cell_type": "code",
   "outputs": [],
   "source": [
    "plt.figure(figsize=(12, 8))\n",
    "sns.barplot(x=trigrams_frequencies, y=trigrams, palette=\"Greens_d\")\n",
    "plt.title(f'Топ-{N} триграмм')\n",
    "plt.xlabel('Частота')\n",
    "plt.ylabel('Триграммы')\n",
    "plt.tight_layout()\n",
    "plt.savefig('results/plots/trigrams.png')\n",
    "plt.close()"
   ],
   "metadata": {
    "collapsed": false,
    "ExecuteTime": {
     "end_time": "2024-03-16T13:15:35.254231Z",
     "start_time": "2024-03-16T13:15:34.817572Z"
    }
   },
   "id": "af3b1fae941aab21",
   "execution_count": 7
  },
  {
   "cell_type": "code",
   "outputs": [],
   "source": [
    "emotion_sentiment_count = comments.groupby(['sentiment', 'emotion']).size().reset_index(name='counts')"
   ],
   "metadata": {
    "collapsed": false,
    "ExecuteTime": {
     "end_time": "2024-03-16T13:15:36.347910Z",
     "start_time": "2024-03-16T13:15:36.338794Z"
    }
   },
   "id": "625f5e78f4e670c6",
   "execution_count": 8
  },
  {
   "cell_type": "code",
   "outputs": [],
   "source": [
    "plt.figure(figsize=(12, 8))\n",
    "sns.barplot(x='sentiment', y='counts', hue='emotion', data=emotion_sentiment_count, palette='bright', estimator=sum)\n",
    "plt.ylim(0, 1000)\n",
    "plt.title('Распределение эмоций по тональности')\n",
    "plt.xlabel('Тональноость')\n",
    "plt.ylabel('Количество комментариев')\n",
    "plt.legend(title='Эмоция', loc='upper left', bbox_to_anchor=(1, 1))\n",
    "plt.tight_layout()\n",
    "plt.savefig('results/plots/emotion_sentiment.png')\n",
    "plt.close()"
   ],
   "metadata": {
    "collapsed": false,
    "ExecuteTime": {
     "end_time": "2024-03-16T13:15:37.430900Z",
     "start_time": "2024-03-16T13:15:36.625644Z"
    }
   },
   "id": "5b5f6acffeae8074",
   "execution_count": 9
  },
  {
   "cell_type": "code",
   "outputs": [],
   "source": [
    "emotion_count = comments.groupby('emotion').size().reset_index(name='counts')"
   ],
   "metadata": {
    "collapsed": false,
    "ExecuteTime": {
     "end_time": "2024-03-16T13:15:38.159597Z",
     "start_time": "2024-03-16T13:15:38.152594Z"
    }
   },
   "id": "522b9bcd029cccb6",
   "execution_count": 10
  },
  {
   "cell_type": "code",
   "outputs": [],
   "source": [
    "plt.figure(figsize=(12, 8))\n",
    "sns.barplot(y='emotion', x='counts', data=emotion_count.sort_values('counts', ascending=False), palette='viridis')\n",
    "plt.title('Количество комментариев по эмоциям')\n",
    "plt.xlabel('Количество комментариев')\n",
    "plt.ylabel('Эмоция')\n",
    "plt.tight_layout()\n",
    "plt.savefig('results/plots/emotion.png')\n",
    "plt.close()"
   ],
   "metadata": {
    "collapsed": false,
    "ExecuteTime": {
     "end_time": "2024-03-16T13:15:38.669932Z",
     "start_time": "2024-03-16T13:15:38.395744Z"
    }
   },
   "id": "de2b757f5b02a862",
   "execution_count": 11
  },
  {
   "cell_type": "code",
   "outputs": [],
   "source": [
    "N = 5\n",
    "\n",
    "emotions_of_interest = {'злость', 'неодобрение', 'восхищение', 'непонимание'}\n",
    "\n",
    "filtered_data = comments[comments['emotion'].isin(emotions_of_interest)].groupby(['author', 'emotion']).size().reset_index(name='counts')\n",
    "\n",
    "anger_data = filtered_data[filtered_data['emotion'] == 'злость'].sort_values('counts', ascending=False).head(N)\n",
    "disapproval_data = filtered_data[filtered_data['emotion'] == 'неодобрение'].sort_values('counts', ascending=False).head(N)\n",
    "admiration_data = filtered_data[filtered_data['emotion'] == 'восхищение'].sort_values('counts', ascending=False).head(N)\n",
    "confusion_data = filtered_data[filtered_data['emotion'] == 'непонимание'].sort_values('counts', ascending=False).head(N)"
   ],
   "metadata": {
    "collapsed": false,
    "ExecuteTime": {
     "end_time": "2024-03-16T13:15:39.956004Z",
     "start_time": "2024-03-16T13:15:39.937282Z"
    }
   },
   "id": "e504376370e10b8b",
   "execution_count": 12
  },
  {
   "cell_type": "code",
   "outputs": [],
   "source": [
    "plt.figure(figsize=(12, 10))\n",
    "\n",
    "plt.subplot(2, 2, 1)\n",
    "sns.barplot(x='author', y='counts', data=anger_data, palette='summer')\n",
    "plt.title('Топ злых комментаторов')\n",
    "plt.xlabel('Комментаторы')\n",
    "plt.ylabel('Количество комментариев')\n",
    "\n",
    "\n",
    "plt.subplot(2, 2, 2)\n",
    "sns.barplot(x='author', y='counts', data=disapproval_data, palette='autumn')\n",
    "plt.title('Топ порицающих комментаторов')\n",
    "plt.xlabel('Комментаторы')\n",
    "plt.ylabel('')\n",
    "\n",
    "plt.subplot(2, 2, 3)\n",
    "sns.barplot(x='author', y='counts', data=admiration_data, palette='winter')\n",
    "plt.title('Топ восхищающихся комментаторов')\n",
    "plt.xlabel('Комментаторы')\n",
    "plt.ylabel('Количество комментариев')\n",
    "\n",
    "plt.subplot(2, 2, 4)\n",
    "sns.barplot(x='author', y='counts', data=confusion_data, palette='spring')\n",
    "plt.title('Топ непонимающих комментаторов')\n",
    "plt.xlabel('Комментаторы')\n",
    "plt.ylabel('')\n",
    "\n",
    "\n",
    "plt.tight_layout()\n",
    "plt.savefig('results/plots/author_emotion.png')\n",
    "plt.close()\n"
   ],
   "metadata": {
    "collapsed": false,
    "ExecuteTime": {
     "end_time": "2024-03-16T13:15:40.875976Z",
     "start_time": "2024-03-16T13:15:40.096593Z"
    }
   },
   "id": "4b14e568e35ce2b0",
   "execution_count": 13
  },
  {
   "cell_type": "code",
   "outputs": [
    {
     "data": {
      "text/plain": "18542"
     },
     "execution_count": 4,
     "metadata": {},
     "output_type": "execute_result"
    }
   ],
   "source": [
    "comments_arr = comments['purged_tokens']\n",
    "comments_arr.shape[0]"
   ],
   "metadata": {
    "collapsed": false,
    "ExecuteTime": {
     "end_time": "2024-03-16T14:14:17.356839Z",
     "start_time": "2024-03-16T14:14:17.349802Z"
    }
   },
   "id": "cfc0e7cf1e568595",
   "execution_count": 4
  },
  {
   "cell_type": "code",
   "execution_count": 5,
   "outputs": [],
   "source": [
    "documents = comments_arr.to_list()\n",
    "id2word = corpora.Dictionary(documents)\n",
    "corpus = [id2word.doc2bow(doc) for doc in documents]"
   ],
   "metadata": {
    "collapsed": false,
    "ExecuteTime": {
     "end_time": "2024-03-16T14:14:19.331063Z",
     "start_time": "2024-03-16T14:14:18.444216Z"
    }
   },
   "id": "f58405fac1adb893"
  },
  {
   "cell_type": "code",
   "execution_count": 6,
   "outputs": [],
   "source": [
    "def compute_coherence_values(dictionary, corpus, texts, limit, start=2, step=3):\n",
    "    \"\"\"\n",
    "    Compute c_v coherence for various number of topics\n",
    "    Parameters:\n",
    "    ----------\n",
    "    dictionary : Gensim dictionary\n",
    "    corpus : Gensim corpus\n",
    "    texts : List of input texts\n",
    "    limit : Max num of topics\n",
    "    Returns:\n",
    "    -------\n",
    "    model_list : List of LDA topic models\n",
    "    coherence_values : Coherence values corresponding to the LDA model with respective number of topics\n",
    "    \"\"\"\n",
    "    coherence_values = []\n",
    "    model_list = []\n",
    "    for num_topics in tqdm(range(start, limit, step), desc=\"Calculating Coherence Values\"):\n",
    "        model = LdaMulticore(corpus=corpus, id2word=dictionary, num_topics=num_topics)\n",
    "        model_list.append(model)\n",
    "        coherencemodel = CoherenceModel(model=model, texts=texts, dictionary=dictionary, coherence='c_v')\n",
    "        coherence_values.append(coherencemodel.get_coherence())\n",
    "    \n",
    "    return model_list, coherence_values"
   ],
   "metadata": {
    "collapsed": false,
    "ExecuteTime": {
     "end_time": "2024-03-16T14:14:19.730769Z",
     "start_time": "2024-03-16T14:14:19.725712Z"
    }
   },
   "id": "f57177353469c47b"
  },
  {
   "cell_type": "code",
   "execution_count": 7,
   "outputs": [
    {
     "data": {
      "text/plain": "Calculating Coherence Values:   0%|          | 0/3 [00:00<?, ?it/s]",
      "application/vnd.jupyter.widget-view+json": {
       "version_major": 2,
       "version_minor": 0,
       "model_id": "d3ef435825fc4a8ca8cdb05810b64af1"
      }
     },
     "metadata": {},
     "output_type": "display_data"
    }
   ],
   "source": [
    "model_list, coherence_values = compute_coherence_values(\n",
    "    dictionary=id2word, corpus=corpus, texts=documents, start=2, limit=5, step=1\n",
    ")"
   ],
   "metadata": {
    "collapsed": false,
    "ExecuteTime": {
     "end_time": "2024-03-16T14:15:17.788202Z",
     "start_time": "2024-03-16T14:14:21.084091Z"
    }
   },
   "id": "551b573a7fd4e22"
  },
  {
   "cell_type": "code",
   "execution_count": 33,
   "outputs": [],
   "source": [
    "data = pd.DataFrame({\n",
    "    'Количество тем': list(range(2, 20, 1)),\n",
    "    'Coherence Value': coherence_values\n",
    "})\n",
    "\n",
    "plt.figure(figsize=(12, 8))\n",
    "sns.lineplot(x='Количество тем', y='Coherence Value', data=data)\n",
    "\n",
    "plt.title('Зависимость Coherence Value от количества тем')\n",
    "plt.xlabel('Количество тем')\n",
    "plt.ylabel('Coherence Value')\n",
    "\n",
    "plt.tight_layout()\n",
    "plt.savefig('results/plots/coherence_topic.png')\n",
    "plt.close()"
   ],
   "metadata": {
    "collapsed": false,
    "ExecuteTime": {
     "end_time": "2024-03-16T13:35:14.761157Z",
     "start_time": "2024-03-16T13:35:14.569743Z"
    }
   },
   "id": "eee74b350cc2e02e"
  },
  {
   "cell_type": "code",
   "execution_count": 15,
   "outputs": [],
   "source": [
    "optimal_model = model_list[0]"
   ],
   "metadata": {
    "collapsed": false,
    "ExecuteTime": {
     "end_time": "2024-03-16T14:18:33.305968Z",
     "start_time": "2024-03-16T14:18:33.302335Z"
    }
   },
   "id": "a4ad27db0c836dc6"
  },
  {
   "cell_type": "code",
   "outputs": [
    {
     "name": "stdout",
     "output_type": "stream",
     "text": [
      "[(0,\n",
      "  '0.005*\"код\" + 0.005*\"проблема\" + 0.004*\"статья\" + 0.004*\"использовать\" + '\n",
      "  '0.004*\"сайт\" + 0.004*\"проект\" + 0.004*\"например\" + 0.003*\"пример\" + '\n",
      "  '0.003*\"приложение\" + 0.003*\"простой\"'),\n",
      " (1,\n",
      "  '0.006*\"статья\" + 0.005*\"код\" + 0.004*\"использовать\" + 0.004*\"проект\" + '\n",
      "  '0.004*\"написать\" + 0.003*\"приложение\" + 0.003*\"тип\" + 0.003*\"сайт\" + '\n",
      "  '0.003*\"проблема\" + 0.003*\"решение\"')]\n"
     ]
    }
   ],
   "source": [
    "model_topics = optimal_model.show_topics(formatted=False)\n",
    "pprint(optimal_model.print_topics(num_words=10))"
   ],
   "metadata": {
    "collapsed": false,
    "ExecuteTime": {
     "end_time": "2024-03-16T14:18:33.795918Z",
     "start_time": "2024-03-16T14:18:33.789645Z"
    }
   },
   "id": "8d3e6f3b779e264b",
   "execution_count": 16
  },
  {
   "cell_type": "code",
   "outputs": [],
   "source": [
    "pyLDAvis.enable_notebook()\n",
    "LDAvis_prepared = pyLDAvis.gensim_models.prepare(optimal_model, corpus, id2word)\n",
    "pyLDAvis.save_html(LDAvis_prepared, 'results/topic_modeling_4.html')"
   ],
   "metadata": {
    "collapsed": false,
    "ExecuteTime": {
     "end_time": "2024-03-16T14:17:01.195558Z",
     "start_time": "2024-03-16T14:16:56.286208Z"
    }
   },
   "id": "d1494e88d7b42199",
   "execution_count": 12
  },
  {
   "cell_type": "markdown",
   "source": [
    "# \"Программирование и Разработка ПО\"\n",
    "# \"Веб-Разработка и Контент\"\n",
    "# \"Разработка Пользовательских Интерфейсов\"\n",
    "# \"Практические Решения в Разработке\""
   ],
   "metadata": {
    "collapsed": false
   },
   "id": "b9d08186c7cd9631"
  },
  {
   "cell_type": "markdown",
   "source": [
    "# \"Основы Разработки и Решение Проблем\"\n",
    "# \"Разработка и Документация: Проекты и Решения\""
   ],
   "metadata": {
    "collapsed": false
   },
   "id": "745ca8b9d0fb639a"
  },
  {
   "cell_type": "markdown",
   "source": [],
   "metadata": {
    "collapsed": false
   },
   "id": "6e5c58e9fc81ea3"
  }
 ],
 "metadata": {
  "kernelspec": {
   "display_name": "Python 3",
   "language": "python",
   "name": "python3"
  },
  "language_info": {
   "codemirror_mode": {
    "name": "ipython",
    "version": 2
   },
   "file_extension": ".py",
   "mimetype": "text/x-python",
   "name": "python",
   "nbconvert_exporter": "python",
   "pygments_lexer": "ipython2",
   "version": "2.7.6"
  }
 },
 "nbformat": 4,
 "nbformat_minor": 5
}
